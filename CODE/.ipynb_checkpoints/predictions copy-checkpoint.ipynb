{
 "cells": [
  {
   "cell_type": "code",
   "execution_count": 1,
   "metadata": {},
   "outputs": [
    {
     "name": "stderr",
     "output_type": "stream",
     "text": [
      "[nltk_data] Downloading package stopwords to\n",
      "[nltk_data]     C:\\Users\\michel\\AppData\\Roaming\\nltk_data...\n",
      "[nltk_data]   Package stopwords is already up-to-date!\n"
     ]
    }
   ],
   "source": [
    "import numpy as np\n",
    "import pandas as pd\n",
    "import matplotlib.pyplot as plt\n",
    "import seaborn as sns\n",
    "#from fast_ml.utilities import display_all\n",
    "#from fast_ml.feature_selection import get_duplicate_features\n",
    "from sklearn.model_selection import train_test_split\n",
    "from sklearn.model_selection import GridSearchCV\n",
    "from matplotlib import pyplot\n",
    "import nltk.corpus\n",
    "import nltk\n",
    "from sklearn.preprocessing import OneHotEncoder\n",
    "from sklearn.preprocessing import OrdinalEncoder\n",
    "nltk.download('stopwords')\n",
    "from nltk.corpus import stopwords\n",
    "\n",
    "import warnings\n",
    "warnings.filterwarnings('ignore')"
   ]
  },
  {
   "cell_type": "code",
   "execution_count": 2,
   "metadata": {},
   "outputs": [],
   "source": [
    "df = pd.read_csv(\"../DATASET/movies.csv\")"
   ]
  },
  {
   "cell_type": "code",
   "execution_count": 3,
   "metadata": {},
   "outputs": [],
   "source": [
    "df.drop(['original_title','imdb_title_id','duration','language','usa_gross_income','worlwide_gross_income','metascore','budget','reviews_from_users','reviews_from_critics', 'production_company', 'date_published'], axis=1, inplace=True)"
   ]
  },
  {
   "cell_type": "code",
   "execution_count": 4,
   "metadata": {},
   "outputs": [
    {
     "data": {
      "text/plain": [
       "(85855, 10)"
      ]
     },
     "execution_count": 4,
     "metadata": {},
     "output_type": "execute_result"
    }
   ],
   "source": [
    "df.shape"
   ]
  },
  {
   "cell_type": "code",
   "execution_count": 5,
   "metadata": {},
   "outputs": [
    {
     "data": {
      "text/plain": [
       "title             0\n",
       "year              0\n",
       "genre             0\n",
       "country          64\n",
       "director         87\n",
       "writer         1572\n",
       "actors           69\n",
       "description    2115\n",
       "avg_vote          0\n",
       "votes             0\n",
       "dtype: int64"
      ]
     },
     "execution_count": 5,
     "metadata": {},
     "output_type": "execute_result"
    }
   ],
   "source": [
    "df.isnull().sum()"
   ]
  },
  {
   "cell_type": "code",
   "execution_count": 6,
   "metadata": {},
   "outputs": [],
   "source": [
    "df['year'] = pd.to_numeric(df['year'])"
   ]
  },
  {
   "cell_type": "code",
   "execution_count": 7,
   "metadata": {},
   "outputs": [
    {
     "data": {
      "text/plain": [
       "(55984, 10)"
      ]
     },
     "execution_count": 7,
     "metadata": {},
     "output_type": "execute_result"
    }
   ],
   "source": [
    "df = df[(df['year'] > 1990)]\n",
    "df.shape"
   ]
  },
  {
   "cell_type": "code",
   "execution_count": 8,
   "metadata": {},
   "outputs": [
    {
     "data": {
      "text/plain": [
       "(20272, 10)"
      ]
     },
     "execution_count": 8,
     "metadata": {},
     "output_type": "execute_result"
    }
   ],
   "source": [
    "df = df[df['country'].str.contains('USA', regex=False, case=False, na=False)]\n",
    "df.shape"
   ]
  },
  {
   "cell_type": "code",
   "execution_count": 9,
   "metadata": {},
   "outputs": [
    {
     "data": {
      "text/html": [
       "<div>\n",
       "<style scoped>\n",
       "    .dataframe tbody tr th:only-of-type {\n",
       "        vertical-align: middle;\n",
       "    }\n",
       "\n",
       "    .dataframe tbody tr th {\n",
       "        vertical-align: top;\n",
       "    }\n",
       "\n",
       "    .dataframe thead th {\n",
       "        text-align: right;\n",
       "    }\n",
       "</style>\n",
       "<table border=\"1\" class=\"dataframe\">\n",
       "  <thead>\n",
       "    <tr style=\"text-align: right;\">\n",
       "      <th></th>\n",
       "      <th>title</th>\n",
       "      <th>year</th>\n",
       "      <th>genre</th>\n",
       "      <th>country</th>\n",
       "      <th>director</th>\n",
       "      <th>writer</th>\n",
       "      <th>actors</th>\n",
       "      <th>description</th>\n",
       "      <th>avg_vote</th>\n",
       "      <th>votes</th>\n",
       "    </tr>\n",
       "  </thead>\n",
       "  <tbody>\n",
       "    <tr>\n",
       "      <th>0</th>\n",
       "      <td>Kate &amp; Leopold</td>\n",
       "      <td>2001</td>\n",
       "      <td>Comedy, Fantasy, Romance</td>\n",
       "      <td>USA</td>\n",
       "      <td>James Mangold</td>\n",
       "      <td>Steven Rogers, James Mangold</td>\n",
       "      <td>Meg Ryan, Hugh Jackman, Liev Schreiber, Brecki...</td>\n",
       "      <td>An English Duke from 1876 is inadvertedly drag...</td>\n",
       "      <td>6.4</td>\n",
       "      <td>77852</td>\n",
       "    </tr>\n",
       "    <tr>\n",
       "      <th>1</th>\n",
       "      <td>L'altra faccia del vento</td>\n",
       "      <td>2018</td>\n",
       "      <td>Drama</td>\n",
       "      <td>France, Iran, USA</td>\n",
       "      <td>Orson Welles</td>\n",
       "      <td>Orson Welles, Oja Kodar</td>\n",
       "      <td>John Huston, Oja Kodar, Peter Bogdanovich, Sus...</td>\n",
       "      <td>A Hollywood director emerges from semi-exile w...</td>\n",
       "      <td>6.8</td>\n",
       "      <td>5887</td>\n",
       "    </tr>\n",
       "    <tr>\n",
       "      <th>2</th>\n",
       "      <td>Harry e Carota</td>\n",
       "      <td>1993</td>\n",
       "      <td>Comedy, Crime, Drama</td>\n",
       "      <td>USA</td>\n",
       "      <td>Dan Curtis</td>\n",
       "      <td>Stanley Cohen, Richard Tannenbaum</td>\n",
       "      <td>Danny Aiello, Alex Zuckerman, Joe Pantoliano, ...</td>\n",
       "      <td>A lonely and emotionally neglected rich kid fo...</td>\n",
       "      <td>5.4</td>\n",
       "      <td>242</td>\n",
       "    </tr>\n",
       "    <tr>\n",
       "      <th>3</th>\n",
       "      <td>The Naked Monster</td>\n",
       "      <td>2005</td>\n",
       "      <td>Comedy, Horror, Sci-Fi</td>\n",
       "      <td>USA</td>\n",
       "      <td>Wayne Berwick, Ted Newsom</td>\n",
       "      <td>Ted Newsom</td>\n",
       "      <td>Kenneth Tobey, Brinke Stevens, R.G. Wilson, Jo...</td>\n",
       "      <td>A brain-dead sheriff, a stolid secret agent an...</td>\n",
       "      <td>5.4</td>\n",
       "      <td>264</td>\n",
       "    </tr>\n",
       "    <tr>\n",
       "      <th>4</th>\n",
       "      <td>Committed</td>\n",
       "      <td>1991</td>\n",
       "      <td>Drama, Thriller</td>\n",
       "      <td>USA</td>\n",
       "      <td>William A. Levey</td>\n",
       "      <td>Susan Claudia, Simon Last</td>\n",
       "      <td>Jennifer O'Neill, Robert Forster, William Wind...</td>\n",
       "      <td>A nurse is taken hostage by a patient pretendi...</td>\n",
       "      <td>5.1</td>\n",
       "      <td>184</td>\n",
       "    </tr>\n",
       "  </tbody>\n",
       "</table>\n",
       "</div>"
      ],
      "text/plain": [
       "                      title  year                     genre  \\\n",
       "0            Kate & Leopold  2001  Comedy, Fantasy, Romance   \n",
       "1  L'altra faccia del vento  2018                     Drama   \n",
       "2            Harry e Carota  1993      Comedy, Crime, Drama   \n",
       "3         The Naked Monster  2005    Comedy, Horror, Sci-Fi   \n",
       "4                 Committed  1991           Drama, Thriller   \n",
       "\n",
       "             country                   director  \\\n",
       "0                USA              James Mangold   \n",
       "1  France, Iran, USA               Orson Welles   \n",
       "2                USA                 Dan Curtis   \n",
       "3                USA  Wayne Berwick, Ted Newsom   \n",
       "4                USA           William A. Levey   \n",
       "\n",
       "                              writer  \\\n",
       "0       Steven Rogers, James Mangold   \n",
       "1            Orson Welles, Oja Kodar   \n",
       "2  Stanley Cohen, Richard Tannenbaum   \n",
       "3                         Ted Newsom   \n",
       "4          Susan Claudia, Simon Last   \n",
       "\n",
       "                                              actors  \\\n",
       "0  Meg Ryan, Hugh Jackman, Liev Schreiber, Brecki...   \n",
       "1  John Huston, Oja Kodar, Peter Bogdanovich, Sus...   \n",
       "2  Danny Aiello, Alex Zuckerman, Joe Pantoliano, ...   \n",
       "3  Kenneth Tobey, Brinke Stevens, R.G. Wilson, Jo...   \n",
       "4  Jennifer O'Neill, Robert Forster, William Wind...   \n",
       "\n",
       "                                         description  avg_vote  votes  \n",
       "0  An English Duke from 1876 is inadvertedly drag...       6.4  77852  \n",
       "1  A Hollywood director emerges from semi-exile w...       6.8   5887  \n",
       "2  A lonely and emotionally neglected rich kid fo...       5.4    242  \n",
       "3  A brain-dead sheriff, a stolid secret agent an...       5.4    264  \n",
       "4  A nurse is taken hostage by a patient pretendi...       5.1    184  "
      ]
     },
     "execution_count": 9,
     "metadata": {},
     "output_type": "execute_result"
    }
   ],
   "source": [
    "df.reset_index(drop=True, inplace=True)\n",
    "df.head()"
   ]
  },
  {
   "cell_type": "code",
   "execution_count": 10,
   "metadata": {},
   "outputs": [
    {
     "data": {
      "text/html": [
       "<div>\n",
       "<style scoped>\n",
       "    .dataframe tbody tr th:only-of-type {\n",
       "        vertical-align: middle;\n",
       "    }\n",
       "\n",
       "    .dataframe tbody tr th {\n",
       "        vertical-align: top;\n",
       "    }\n",
       "\n",
       "    .dataframe thead th {\n",
       "        text-align: right;\n",
       "    }\n",
       "</style>\n",
       "<table border=\"1\" class=\"dataframe\">\n",
       "  <thead>\n",
       "    <tr style=\"text-align: right;\">\n",
       "      <th></th>\n",
       "      <th>title</th>\n",
       "      <th>genre</th>\n",
       "      <th>director</th>\n",
       "      <th>writer</th>\n",
       "      <th>actors</th>\n",
       "      <th>description</th>\n",
       "      <th>avg_vote</th>\n",
       "      <th>votes</th>\n",
       "    </tr>\n",
       "  </thead>\n",
       "  <tbody>\n",
       "    <tr>\n",
       "      <th>0</th>\n",
       "      <td>Kate &amp; Leopold</td>\n",
       "      <td>Comedy, Fantasy, Romance</td>\n",
       "      <td>James Mangold</td>\n",
       "      <td>Steven Rogers, James Mangold</td>\n",
       "      <td>Meg Ryan, Hugh Jackman, Liev Schreiber, Brecki...</td>\n",
       "      <td>An English Duke from 1876 is inadvertedly drag...</td>\n",
       "      <td>6.4</td>\n",
       "      <td>77852</td>\n",
       "    </tr>\n",
       "    <tr>\n",
       "      <th>1</th>\n",
       "      <td>L'altra faccia del vento</td>\n",
       "      <td>Drama</td>\n",
       "      <td>Orson Welles</td>\n",
       "      <td>Orson Welles, Oja Kodar</td>\n",
       "      <td>John Huston, Oja Kodar, Peter Bogdanovich, Sus...</td>\n",
       "      <td>A Hollywood director emerges from semi-exile w...</td>\n",
       "      <td>6.8</td>\n",
       "      <td>5887</td>\n",
       "    </tr>\n",
       "    <tr>\n",
       "      <th>2</th>\n",
       "      <td>Harry e Carota</td>\n",
       "      <td>Comedy, Crime, Drama</td>\n",
       "      <td>Dan Curtis</td>\n",
       "      <td>Stanley Cohen, Richard Tannenbaum</td>\n",
       "      <td>Danny Aiello, Alex Zuckerman, Joe Pantoliano, ...</td>\n",
       "      <td>A lonely and emotionally neglected rich kid fo...</td>\n",
       "      <td>5.4</td>\n",
       "      <td>242</td>\n",
       "    </tr>\n",
       "    <tr>\n",
       "      <th>3</th>\n",
       "      <td>The Naked Monster</td>\n",
       "      <td>Comedy, Horror, Sci-Fi</td>\n",
       "      <td>Wayne Berwick, Ted Newsom</td>\n",
       "      <td>Ted Newsom</td>\n",
       "      <td>Kenneth Tobey, Brinke Stevens, R.G. Wilson, Jo...</td>\n",
       "      <td>A brain-dead sheriff, a stolid secret agent an...</td>\n",
       "      <td>5.4</td>\n",
       "      <td>264</td>\n",
       "    </tr>\n",
       "    <tr>\n",
       "      <th>4</th>\n",
       "      <td>Committed</td>\n",
       "      <td>Drama, Thriller</td>\n",
       "      <td>William A. Levey</td>\n",
       "      <td>Susan Claudia, Simon Last</td>\n",
       "      <td>Jennifer O'Neill, Robert Forster, William Wind...</td>\n",
       "      <td>A nurse is taken hostage by a patient pretendi...</td>\n",
       "      <td>5.1</td>\n",
       "      <td>184</td>\n",
       "    </tr>\n",
       "  </tbody>\n",
       "</table>\n",
       "</div>"
      ],
      "text/plain": [
       "                      title                     genre  \\\n",
       "0            Kate & Leopold  Comedy, Fantasy, Romance   \n",
       "1  L'altra faccia del vento                     Drama   \n",
       "2            Harry e Carota      Comedy, Crime, Drama   \n",
       "3         The Naked Monster    Comedy, Horror, Sci-Fi   \n",
       "4                 Committed           Drama, Thriller   \n",
       "\n",
       "                    director                             writer  \\\n",
       "0              James Mangold       Steven Rogers, James Mangold   \n",
       "1               Orson Welles            Orson Welles, Oja Kodar   \n",
       "2                 Dan Curtis  Stanley Cohen, Richard Tannenbaum   \n",
       "3  Wayne Berwick, Ted Newsom                         Ted Newsom   \n",
       "4           William A. Levey          Susan Claudia, Simon Last   \n",
       "\n",
       "                                              actors  \\\n",
       "0  Meg Ryan, Hugh Jackman, Liev Schreiber, Brecki...   \n",
       "1  John Huston, Oja Kodar, Peter Bogdanovich, Sus...   \n",
       "2  Danny Aiello, Alex Zuckerman, Joe Pantoliano, ...   \n",
       "3  Kenneth Tobey, Brinke Stevens, R.G. Wilson, Jo...   \n",
       "4  Jennifer O'Neill, Robert Forster, William Wind...   \n",
       "\n",
       "                                         description  avg_vote  votes  \n",
       "0  An English Duke from 1876 is inadvertedly drag...       6.4  77852  \n",
       "1  A Hollywood director emerges from semi-exile w...       6.8   5887  \n",
       "2  A lonely and emotionally neglected rich kid fo...       5.4    242  \n",
       "3  A brain-dead sheriff, a stolid secret agent an...       5.4    264  \n",
       "4  A nurse is taken hostage by a patient pretendi...       5.1    184  "
      ]
     },
     "execution_count": 10,
     "metadata": {},
     "output_type": "execute_result"
    }
   ],
   "source": [
    "# as we have now only USA country, we can remove this column\n",
    "# title and year are also useless now to predict\n",
    "df.drop(['year','country'], axis=1, inplace=True)\n",
    "df.head()"
   ]
  },
  {
   "cell_type": "markdown",
   "metadata": {},
   "source": [
    "CLEAN THE GENRE COLUMN"
   ]
  },
  {
   "cell_type": "code",
   "execution_count": 11,
   "metadata": {},
   "outputs": [],
   "source": [
    "# keep the 2 1st genres\n",
    "# create another column for the 2nd genre if available otherwise write the 1st genre in it.\n",
    "df['genre'].str.split(\",\")\n",
    "df['genre'] = df['genre'].apply(lambda x: x.split()[0])\n",
    "df['genre'] = df['genre'][:-1].str.replace(',',' ')"
   ]
  },
  {
   "cell_type": "code",
   "execution_count": 12,
   "metadata": {},
   "outputs": [],
   "source": [
    "# remove white space\n",
    "df['genre'] = df['genre'].str.strip()"
   ]
  },
  {
   "cell_type": "code",
   "execution_count": 13,
   "metadata": {},
   "outputs": [],
   "source": [
    "df = df[['genre','director','writer','actors','description','avg_vote','votes']]"
   ]
  },
  {
   "cell_type": "markdown",
   "metadata": {},
   "source": [
    "CLEAN THE DIRECTOR COLUMN"
   ]
  },
  {
   "cell_type": "code",
   "execution_count": 14,
   "metadata": {},
   "outputs": [],
   "source": [
    "df['director'] = df['director'].str.replace('\\d+', '').astype(str)\n",
    "\n",
    "df['director'].str.split(\",\")\n",
    "df['director'] = df['director'].str.split(\",\").str.get(0)\n",
    "\n",
    "# remove white space \n",
    "df['director'] = df['director'].str.strip()"
   ]
  },
  {
   "cell_type": "code",
   "execution_count": 15,
   "metadata": {},
   "outputs": [],
   "source": [
    "df = df[['genre','director','writer','actors','description','avg_vote','votes']]"
   ]
  },
  {
   "cell_type": "markdown",
   "metadata": {},
   "source": [
    "CLEAN THE WRITER COLUMN"
   ]
  },
  {
   "cell_type": "code",
   "execution_count": 16,
   "metadata": {},
   "outputs": [],
   "source": [
    "df['writer'] = df['writer'].str.replace('\\d+', '').astype(str)\n",
    "\n",
    "df['writer'].str.split(\",\")\n",
    "df['writer'] = df['writer'].str.split(\",\").str.get(0)\n",
    "\n",
    "# remove white space \n",
    "df['writer'] = df['writer'].str.strip()"
   ]
  },
  {
   "cell_type": "code",
   "execution_count": 17,
   "metadata": {},
   "outputs": [],
   "source": [
    "df = df[['genre','director','writer','actors','description','avg_vote','votes']]"
   ]
  },
  {
   "cell_type": "markdown",
   "metadata": {},
   "source": [
    "CLEAN THE ACTORS COLUMN"
   ]
  },
  {
   "cell_type": "code",
   "execution_count": 18,
   "metadata": {},
   "outputs": [],
   "source": [
    "# take only the first 5 actors\n",
    "df.rename(columns={'actors': 'actors_1'}, inplace=True)\n",
    "\n",
    "df['actors_1'] = df['actors_1'].astype(str).str.replace('\\d+', '')\n",
    "df['actors_1'] = df['actors_1'].astype(str).str.split(\",\")"
   ]
  },
  {
   "cell_type": "code",
   "execution_count": 19,
   "metadata": {},
   "outputs": [],
   "source": [
    "df[\"actors_2\"] = df['actors_1'].astype(str).str.split(\",\").str.get(1)\n",
    "df[\"actors_3\"] = df['actors_1'].astype(str).str.split(\",\").str.get(2)\n",
    "df['actors_1'] = df['actors_1'].astype(str).str.split(\",\").str.get(0)\n",
    "#replace nan\n",
    "df['actors_2'].fillna(df['actors_1'], inplace=True)\n",
    "df['actors_3'].fillna(df['actors_2'], inplace=True)"
   ]
  },
  {
   "cell_type": "code",
   "execution_count": 20,
   "metadata": {},
   "outputs": [],
   "source": [
    "df['actors_1'] = df['actors_1'].map(lambda x: x.lstrip(\"[\"))\n",
    "df['actors_1'] = df['actors_1'][:-1].str.replace(\"'\",\" \")\n",
    "df['actors_1'] = df['actors_1'][:-1].str.replace('\"',\" \")\n",
    "\n",
    "df['actors_2'] = df['actors_2'][:-1].str.replace(\"'\",\" \")\n",
    "df['actors_2'] = df['actors_2'][:-1].str.replace('\"',\" \")\n",
    "\n",
    "df['actors_3'] = df['actors_3'][:-1].str.replace(\"'\",\" \")\n",
    "df['actors_3'] = df['actors_3'][:-1].str.replace('\"',\" \")"
   ]
  },
  {
   "cell_type": "code",
   "execution_count": 21,
   "metadata": {},
   "outputs": [],
   "source": [
    "df = df[['genre','director','writer','actors_1','actors_2','actors_3','description','avg_vote','votes']]"
   ]
  },
  {
   "cell_type": "code",
   "execution_count": 22,
   "metadata": {},
   "outputs": [
    {
     "data": {
      "text/html": [
       "<div>\n",
       "<style scoped>\n",
       "    .dataframe tbody tr th:only-of-type {\n",
       "        vertical-align: middle;\n",
       "    }\n",
       "\n",
       "    .dataframe tbody tr th {\n",
       "        vertical-align: top;\n",
       "    }\n",
       "\n",
       "    .dataframe thead th {\n",
       "        text-align: right;\n",
       "    }\n",
       "</style>\n",
       "<table border=\"1\" class=\"dataframe\">\n",
       "  <thead>\n",
       "    <tr style=\"text-align: right;\">\n",
       "      <th></th>\n",
       "      <th>genre</th>\n",
       "      <th>director</th>\n",
       "      <th>writer</th>\n",
       "      <th>actors_1</th>\n",
       "      <th>actors_2</th>\n",
       "      <th>actors_3</th>\n",
       "      <th>description</th>\n",
       "      <th>avg_vote</th>\n",
       "      <th>votes</th>\n",
       "    </tr>\n",
       "  </thead>\n",
       "  <tbody>\n",
       "    <tr>\n",
       "      <th>0</th>\n",
       "      <td>Comedy</td>\n",
       "      <td>James Mangold</td>\n",
       "      <td>Steven Rogers</td>\n",
       "      <td>Meg Ryan</td>\n",
       "      <td>Hugh Jackman</td>\n",
       "      <td>Liev Schreiber</td>\n",
       "      <td>An English Duke from 1876 is inadvertedly drag...</td>\n",
       "      <td>6.4</td>\n",
       "      <td>77852</td>\n",
       "    </tr>\n",
       "    <tr>\n",
       "      <th>1</th>\n",
       "      <td>Drama</td>\n",
       "      <td>Orson Welles</td>\n",
       "      <td>Orson Welles</td>\n",
       "      <td>John Huston</td>\n",
       "      <td>Oja Kodar</td>\n",
       "      <td>Peter Bogdanovich</td>\n",
       "      <td>A Hollywood director emerges from semi-exile w...</td>\n",
       "      <td>6.8</td>\n",
       "      <td>5887</td>\n",
       "    </tr>\n",
       "    <tr>\n",
       "      <th>2</th>\n",
       "      <td>Comedy</td>\n",
       "      <td>Dan Curtis</td>\n",
       "      <td>Stanley Cohen</td>\n",
       "      <td>Danny Aiello</td>\n",
       "      <td>Alex Zuckerman</td>\n",
       "      <td>Joe Pantoliano</td>\n",
       "      <td>A lonely and emotionally neglected rich kid fo...</td>\n",
       "      <td>5.4</td>\n",
       "      <td>242</td>\n",
       "    </tr>\n",
       "    <tr>\n",
       "      <th>3</th>\n",
       "      <td>Comedy</td>\n",
       "      <td>Wayne Berwick</td>\n",
       "      <td>Ted Newsom</td>\n",
       "      <td>Kenneth Tobey</td>\n",
       "      <td>Brinke Stevens</td>\n",
       "      <td>R.G. Wilson</td>\n",
       "      <td>A brain-dead sheriff, a stolid secret agent an...</td>\n",
       "      <td>5.4</td>\n",
       "      <td>264</td>\n",
       "    </tr>\n",
       "    <tr>\n",
       "      <th>4</th>\n",
       "      <td>Drama</td>\n",
       "      <td>William A. Levey</td>\n",
       "      <td>Susan Claudia</td>\n",
       "      <td>Jennifer O Neill</td>\n",
       "      <td>Robert Forster</td>\n",
       "      <td>William Windom</td>\n",
       "      <td>A nurse is taken hostage by a patient pretendi...</td>\n",
       "      <td>5.1</td>\n",
       "      <td>184</td>\n",
       "    </tr>\n",
       "  </tbody>\n",
       "</table>\n",
       "</div>"
      ],
      "text/plain": [
       "    genre          director         writer            actors_1  \\\n",
       "0  Comedy     James Mangold  Steven Rogers           Meg Ryan    \n",
       "1   Drama      Orson Welles   Orson Welles        John Huston    \n",
       "2  Comedy        Dan Curtis  Stanley Cohen       Danny Aiello    \n",
       "3  Comedy     Wayne Berwick     Ted Newsom      Kenneth Tobey    \n",
       "4   Drama  William A. Levey  Susan Claudia   Jennifer O Neill    \n",
       "\n",
       "             actors_2               actors_3  \\\n",
       "0       Hugh Jackman         Liev Schreiber    \n",
       "1          Oja Kodar      Peter Bogdanovich    \n",
       "2     Alex Zuckerman         Joe Pantoliano    \n",
       "3     Brinke Stevens            R.G. Wilson    \n",
       "4     Robert Forster         William Windom    \n",
       "\n",
       "                                         description  avg_vote  votes  \n",
       "0  An English Duke from 1876 is inadvertedly drag...       6.4  77852  \n",
       "1  A Hollywood director emerges from semi-exile w...       6.8   5887  \n",
       "2  A lonely and emotionally neglected rich kid fo...       5.4    242  \n",
       "3  A brain-dead sheriff, a stolid secret agent an...       5.4    264  \n",
       "4  A nurse is taken hostage by a patient pretendi...       5.1    184  "
      ]
     },
     "execution_count": 22,
     "metadata": {},
     "output_type": "execute_result"
    }
   ],
   "source": [
    "df.head()"
   ]
  },
  {
   "cell_type": "markdown",
   "metadata": {},
   "source": [
    "CLEAN THE DESCRIPTION PART"
   ]
  },
  {
   "cell_type": "code",
   "execution_count": 23,
   "metadata": {},
   "outputs": [
    {
     "data": {
      "text/plain": [
       "(20205, 9)"
      ]
     },
     "execution_count": 23,
     "metadata": {},
     "output_type": "execute_result"
    }
   ],
   "source": [
    "# remove null values in description\n",
    "df = df[df['description'].notnull()]\n",
    "df.shape"
   ]
  },
  {
   "cell_type": "code",
   "execution_count": 24,
   "metadata": {},
   "outputs": [],
   "source": [
    "# all letters lowercase for stopwords\n",
    "df['description'] = df['description'].str.lower()"
   ]
  },
  {
   "cell_type": "code",
   "execution_count": 25,
   "metadata": {},
   "outputs": [],
   "source": [
    "# remove punctuations in some columns\n",
    "df['description'] = df['description'].str.replace('[^\\w\\s]','')"
   ]
  },
  {
   "cell_type": "code",
   "execution_count": 26,
   "metadata": {},
   "outputs": [],
   "source": [
    "# remove numbers from description\n",
    "df['description'] = df['description'].str.replace('\\d+', '')"
   ]
  },
  {
   "cell_type": "code",
   "execution_count": 27,
   "metadata": {},
   "outputs": [],
   "source": [
    "# remove useless words\n",
    "stop_words = stopwords.words('english')\n",
    "df['description'] = df['description'].apply(lambda x: ' '.join([word for word in x.split() if word not in (stop_words)]))"
   ]
  },
  {
   "cell_type": "code",
   "execution_count": 28,
   "metadata": {},
   "outputs": [],
   "source": [
    "# take only the first 10 words\n",
    "df.rename(columns={'description': 'description_word_1'}, inplace=True)\n",
    "\n",
    "df['description_word_1'] = df['description_word_1'].astype(str).str.replace('\\d+', '')\n",
    "df['description_word_1'] = df['description_word_1'].astype(str).str.split(\" \")"
   ]
  },
  {
   "cell_type": "code",
   "execution_count": 29,
   "metadata": {},
   "outputs": [],
   "source": [
    "df[\"description_word_2\"] = df[\"description_word_1\"].astype(str).str.split(\",\").str.get(1)\n",
    "df[\"description_word_3\"] = df[\"description_word_1\"].astype(str).str.split(\",\").str.get(2)\n",
    "df[\"description_word_4\"] = df[\"description_word_1\"].astype(str).str.split(\",\").str.get(3)\n",
    "df[\"description_word_5\"] = df[\"description_word_1\"].astype(str).str.split(\",\").str.get(4)\n",
    "df[\"description_word_1\"] = df[\"description_word_1\"].astype(str).str.split(\",\").str.get(0)\n",
    "\n",
    "#replace nan\n",
    "df[\"description_word_2\"].fillna(df[\"description_word_1\"], inplace=True)\n",
    "df[\"description_word_3\"].fillna(df[\"description_word_2\"], inplace=True)\n",
    "df[\"description_word_4\"].fillna(df[\"description_word_3\"], inplace=True)\n",
    "df[\"description_word_5\"].fillna(df[\"description_word_4\"], inplace=True)"
   ]
  },
  {
   "cell_type": "code",
   "execution_count": 30,
   "metadata": {},
   "outputs": [],
   "source": [
    "df[\"description_word_1\"] = df[\"description_word_1\"].map(lambda x: x.lstrip(\"[\"))\n",
    "df[\"description_word_1\"] = df[\"description_word_1\"][:-1].str.replace(\"'\",\" \")\n",
    "df[\"description_word_1\"] = df[\"description_word_1\"][:-1].str.replace('\"',\" \")\n",
    "\n",
    "df[\"description_word_2\"] = df[\"description_word_2\"][:-1].str.replace(\"'\",\" \")\n",
    "df[\"description_word_2\"] = df[\"description_word_2\"][:-1].str.replace('\"',\" \")\n",
    "\n",
    "df[\"description_word_3\"] = df[\"description_word_3\"][:-1].str.replace(\"'\",\" \")\n",
    "df[\"description_word_3\"] = df[\"description_word_3\"][:-1].str.replace('\"',\" \")\n",
    "\n",
    "df[\"description_word_4\"] = df[\"description_word_4\"][:-1].str.replace(\"'\",\" \")\n",
    "df[\"description_word_4\"] = df[\"description_word_4\"][:-1].str.replace('\"',\" \")\n",
    "\n",
    "df[\"description_word_5\"] = df[\"description_word_5\"][:-1].str.replace(\"'\",\" \")\n",
    "df[\"description_word_5\"] = df[\"description_word_5\"][:-1].str.replace('\"',\" \")"
   ]
  },
  {
   "cell_type": "code",
   "execution_count": 31,
   "metadata": {},
   "outputs": [
    {
     "data": {
      "text/html": [
       "<div>\n",
       "<style scoped>\n",
       "    .dataframe tbody tr th:only-of-type {\n",
       "        vertical-align: middle;\n",
       "    }\n",
       "\n",
       "    .dataframe tbody tr th {\n",
       "        vertical-align: top;\n",
       "    }\n",
       "\n",
       "    .dataframe thead th {\n",
       "        text-align: right;\n",
       "    }\n",
       "</style>\n",
       "<table border=\"1\" class=\"dataframe\">\n",
       "  <thead>\n",
       "    <tr style=\"text-align: right;\">\n",
       "      <th></th>\n",
       "      <th>genre</th>\n",
       "      <th>director</th>\n",
       "      <th>writer</th>\n",
       "      <th>actors_1</th>\n",
       "      <th>actors_2</th>\n",
       "      <th>actors_3</th>\n",
       "      <th>description_word_1</th>\n",
       "      <th>avg_vote</th>\n",
       "      <th>votes</th>\n",
       "      <th>description_word_2</th>\n",
       "      <th>description_word_3</th>\n",
       "      <th>description_word_4</th>\n",
       "      <th>description_word_5</th>\n",
       "    </tr>\n",
       "  </thead>\n",
       "  <tbody>\n",
       "    <tr>\n",
       "      <th>0</th>\n",
       "      <td>Comedy</td>\n",
       "      <td>James Mangold</td>\n",
       "      <td>Steven Rogers</td>\n",
       "      <td>Meg Ryan</td>\n",
       "      <td>Hugh Jackman</td>\n",
       "      <td>Liev Schreiber</td>\n",
       "      <td>english</td>\n",
       "      <td>6.4</td>\n",
       "      <td>77852</td>\n",
       "      <td>duke</td>\n",
       "      <td>inadvertedly</td>\n",
       "      <td>dragged</td>\n",
       "      <td>modern</td>\n",
       "    </tr>\n",
       "    <tr>\n",
       "      <th>1</th>\n",
       "      <td>Drama</td>\n",
       "      <td>Orson Welles</td>\n",
       "      <td>Orson Welles</td>\n",
       "      <td>John Huston</td>\n",
       "      <td>Oja Kodar</td>\n",
       "      <td>Peter Bogdanovich</td>\n",
       "      <td>hollywood</td>\n",
       "      <td>6.8</td>\n",
       "      <td>5887</td>\n",
       "      <td>director</td>\n",
       "      <td>emerges</td>\n",
       "      <td>semiexile</td>\n",
       "      <td>plans</td>\n",
       "    </tr>\n",
       "    <tr>\n",
       "      <th>2</th>\n",
       "      <td>Comedy</td>\n",
       "      <td>Dan Curtis</td>\n",
       "      <td>Stanley Cohen</td>\n",
       "      <td>Danny Aiello</td>\n",
       "      <td>Alex Zuckerman</td>\n",
       "      <td>Joe Pantoliano</td>\n",
       "      <td>lonely</td>\n",
       "      <td>5.4</td>\n",
       "      <td>242</td>\n",
       "      <td>emotionally</td>\n",
       "      <td>neglected</td>\n",
       "      <td>rich</td>\n",
       "      <td>kid</td>\n",
       "    </tr>\n",
       "    <tr>\n",
       "      <th>3</th>\n",
       "      <td>Comedy</td>\n",
       "      <td>Wayne Berwick</td>\n",
       "      <td>Ted Newsom</td>\n",
       "      <td>Kenneth Tobey</td>\n",
       "      <td>Brinke Stevens</td>\n",
       "      <td>R.G. Wilson</td>\n",
       "      <td>braindead</td>\n",
       "      <td>5.4</td>\n",
       "      <td>264</td>\n",
       "      <td>sheriff</td>\n",
       "      <td>stolid</td>\n",
       "      <td>secret</td>\n",
       "      <td>agent</td>\n",
       "    </tr>\n",
       "    <tr>\n",
       "      <th>4</th>\n",
       "      <td>Drama</td>\n",
       "      <td>William A. Levey</td>\n",
       "      <td>Susan Claudia</td>\n",
       "      <td>Jennifer O Neill</td>\n",
       "      <td>Robert Forster</td>\n",
       "      <td>William Windom</td>\n",
       "      <td>nurse</td>\n",
       "      <td>5.1</td>\n",
       "      <td>184</td>\n",
       "      <td>taken</td>\n",
       "      <td>hostage</td>\n",
       "      <td>patient</td>\n",
       "      <td>pretending</td>\n",
       "    </tr>\n",
       "  </tbody>\n",
       "</table>\n",
       "</div>"
      ],
      "text/plain": [
       "    genre          director         writer            actors_1  \\\n",
       "0  Comedy     James Mangold  Steven Rogers           Meg Ryan    \n",
       "1   Drama      Orson Welles   Orson Welles        John Huston    \n",
       "2  Comedy        Dan Curtis  Stanley Cohen       Danny Aiello    \n",
       "3  Comedy     Wayne Berwick     Ted Newsom      Kenneth Tobey    \n",
       "4   Drama  William A. Levey  Susan Claudia   Jennifer O Neill    \n",
       "\n",
       "             actors_2               actors_3 description_word_1  avg_vote  \\\n",
       "0       Hugh Jackman         Liev Schreiber            english        6.4   \n",
       "1          Oja Kodar      Peter Bogdanovich          hollywood        6.8   \n",
       "2     Alex Zuckerman         Joe Pantoliano             lonely        5.4   \n",
       "3     Brinke Stevens            R.G. Wilson          braindead        5.4   \n",
       "4     Robert Forster         William Windom              nurse        5.1   \n",
       "\n",
       "   votes description_word_2 description_word_3 description_word_4  \\\n",
       "0  77852              duke       inadvertedly            dragged    \n",
       "1   5887          director            emerges          semiexile    \n",
       "2    242       emotionally          neglected               rich    \n",
       "3    264           sheriff             stolid             secret    \n",
       "4    184             taken            hostage            patient    \n",
       "\n",
       "  description_word_5  \n",
       "0            modern   \n",
       "1             plans   \n",
       "2               kid   \n",
       "3             agent   \n",
       "4        pretending   "
      ]
     },
     "execution_count": 31,
     "metadata": {},
     "output_type": "execute_result"
    }
   ],
   "source": [
    "df.head()"
   ]
  },
  {
   "cell_type": "code",
   "execution_count": 32,
   "metadata": {},
   "outputs": [],
   "source": [
    "df = df[['genre','director','writer','actors_1','actors_2','actors_3','description_word_1','description_word_2','description_word_3','description_word_4','description_word_5','avg_vote','votes']]"
   ]
  },
  {
   "cell_type": "code",
   "execution_count": 33,
   "metadata": {},
   "outputs": [
    {
     "data": {
      "text/html": [
       "<div>\n",
       "<style scoped>\n",
       "    .dataframe tbody tr th:only-of-type {\n",
       "        vertical-align: middle;\n",
       "    }\n",
       "\n",
       "    .dataframe tbody tr th {\n",
       "        vertical-align: top;\n",
       "    }\n",
       "\n",
       "    .dataframe thead th {\n",
       "        text-align: right;\n",
       "    }\n",
       "</style>\n",
       "<table border=\"1\" class=\"dataframe\">\n",
       "  <thead>\n",
       "    <tr style=\"text-align: right;\">\n",
       "      <th></th>\n",
       "      <th>genre</th>\n",
       "      <th>director</th>\n",
       "      <th>writer</th>\n",
       "      <th>actors_1</th>\n",
       "      <th>actors_2</th>\n",
       "      <th>actors_3</th>\n",
       "      <th>description_word_1</th>\n",
       "      <th>description_word_2</th>\n",
       "      <th>description_word_3</th>\n",
       "      <th>description_word_4</th>\n",
       "      <th>description_word_5</th>\n",
       "      <th>avg_vote</th>\n",
       "      <th>votes</th>\n",
       "    </tr>\n",
       "  </thead>\n",
       "  <tbody>\n",
       "    <tr>\n",
       "      <th>0</th>\n",
       "      <td>Comedy</td>\n",
       "      <td>James Mangold</td>\n",
       "      <td>Steven Rogers</td>\n",
       "      <td>Meg Ryan</td>\n",
       "      <td>Hugh Jackman</td>\n",
       "      <td>Liev Schreiber</td>\n",
       "      <td>english</td>\n",
       "      <td>duke</td>\n",
       "      <td>inadvertedly</td>\n",
       "      <td>dragged</td>\n",
       "      <td>modern</td>\n",
       "      <td>6.4</td>\n",
       "      <td>77852</td>\n",
       "    </tr>\n",
       "    <tr>\n",
       "      <th>1</th>\n",
       "      <td>Drama</td>\n",
       "      <td>Orson Welles</td>\n",
       "      <td>Orson Welles</td>\n",
       "      <td>John Huston</td>\n",
       "      <td>Oja Kodar</td>\n",
       "      <td>Peter Bogdanovich</td>\n",
       "      <td>hollywood</td>\n",
       "      <td>director</td>\n",
       "      <td>emerges</td>\n",
       "      <td>semiexile</td>\n",
       "      <td>plans</td>\n",
       "      <td>6.8</td>\n",
       "      <td>5887</td>\n",
       "    </tr>\n",
       "    <tr>\n",
       "      <th>2</th>\n",
       "      <td>Comedy</td>\n",
       "      <td>Dan Curtis</td>\n",
       "      <td>Stanley Cohen</td>\n",
       "      <td>Danny Aiello</td>\n",
       "      <td>Alex Zuckerman</td>\n",
       "      <td>Joe Pantoliano</td>\n",
       "      <td>lonely</td>\n",
       "      <td>emotionally</td>\n",
       "      <td>neglected</td>\n",
       "      <td>rich</td>\n",
       "      <td>kid</td>\n",
       "      <td>5.4</td>\n",
       "      <td>242</td>\n",
       "    </tr>\n",
       "    <tr>\n",
       "      <th>3</th>\n",
       "      <td>Comedy</td>\n",
       "      <td>Wayne Berwick</td>\n",
       "      <td>Ted Newsom</td>\n",
       "      <td>Kenneth Tobey</td>\n",
       "      <td>Brinke Stevens</td>\n",
       "      <td>R.G. Wilson</td>\n",
       "      <td>braindead</td>\n",
       "      <td>sheriff</td>\n",
       "      <td>stolid</td>\n",
       "      <td>secret</td>\n",
       "      <td>agent</td>\n",
       "      <td>5.4</td>\n",
       "      <td>264</td>\n",
       "    </tr>\n",
       "    <tr>\n",
       "      <th>4</th>\n",
       "      <td>Drama</td>\n",
       "      <td>William A. Levey</td>\n",
       "      <td>Susan Claudia</td>\n",
       "      <td>Jennifer O Neill</td>\n",
       "      <td>Robert Forster</td>\n",
       "      <td>William Windom</td>\n",
       "      <td>nurse</td>\n",
       "      <td>taken</td>\n",
       "      <td>hostage</td>\n",
       "      <td>patient</td>\n",
       "      <td>pretending</td>\n",
       "      <td>5.1</td>\n",
       "      <td>184</td>\n",
       "    </tr>\n",
       "  </tbody>\n",
       "</table>\n",
       "</div>"
      ],
      "text/plain": [
       "    genre          director         writer            actors_1  \\\n",
       "0  Comedy     James Mangold  Steven Rogers           Meg Ryan    \n",
       "1   Drama      Orson Welles   Orson Welles        John Huston    \n",
       "2  Comedy        Dan Curtis  Stanley Cohen       Danny Aiello    \n",
       "3  Comedy     Wayne Berwick     Ted Newsom      Kenneth Tobey    \n",
       "4   Drama  William A. Levey  Susan Claudia   Jennifer O Neill    \n",
       "\n",
       "             actors_2               actors_3 description_word_1  \\\n",
       "0       Hugh Jackman         Liev Schreiber            english    \n",
       "1          Oja Kodar      Peter Bogdanovich          hollywood    \n",
       "2     Alex Zuckerman         Joe Pantoliano             lonely    \n",
       "3     Brinke Stevens            R.G. Wilson          braindead    \n",
       "4     Robert Forster         William Windom              nurse    \n",
       "\n",
       "  description_word_2 description_word_3 description_word_4 description_word_5  \\\n",
       "0              duke       inadvertedly            dragged             modern    \n",
       "1          director            emerges          semiexile              plans    \n",
       "2       emotionally          neglected               rich                kid    \n",
       "3           sheriff             stolid             secret              agent    \n",
       "4             taken            hostage            patient         pretending    \n",
       "\n",
       "   avg_vote  votes  \n",
       "0       6.4  77852  \n",
       "1       6.8   5887  \n",
       "2       5.4    242  \n",
       "3       5.4    264  \n",
       "4       5.1    184  "
      ]
     },
     "execution_count": 33,
     "metadata": {},
     "output_type": "execute_result"
    }
   ],
   "source": [
    "df.head()"
   ]
  },
  {
   "cell_type": "code",
   "execution_count": 34,
   "metadata": {},
   "outputs": [],
   "source": [
    "df.isna().sum()\n",
    "df = df.dropna()"
   ]
  },
  {
   "cell_type": "markdown",
   "metadata": {},
   "source": [
    "STANDARDISE AND SEE THE VOTES PART"
   ]
  },
  {
   "cell_type": "code",
   "execution_count": 35,
   "metadata": {},
   "outputs": [
    {
     "data": {
      "text/plain": [
       "(5027, 13)"
      ]
     },
     "execution_count": 35,
     "metadata": {},
     "output_type": "execute_result"
    }
   ],
   "source": [
    "df = df[df['votes'] >= 10000]\n",
    "df.shape"
   ]
  },
  {
   "cell_type": "code",
   "execution_count": 36,
   "metadata": {},
   "outputs": [
    {
     "data": {
      "image/png": "[encoded data removed]",
      "text/plain": [
       "<Figure size 1080x360 with 2 Axes>"
      ]
     },
     "metadata": {
      "needs_background": "light"
     },
     "output_type": "display_data"
    }
   ],
   "source": [
    "ratings = dict(mean=df.avg_vote.mean(),\n",
    "              median=df.avg_vote.median())\n",
    "votes = dict(mean=df.votes.mean(),\n",
    "              median=df.votes.median())\n",
    "\n",
    "plt.figure(figsize=(15,5))\n",
    "\n",
    "plt.subplot(1,2,1)\n",
    "ax1 = sns.distplot(df.avg_vote,kde_kws=dict(bw=0.2))\n",
    "ax1.axvline(x=ratings[\"mean\"],c=sns.color_palette(\"Set2\")[1],label=f\"mean={round(ratings['mean'],2)}\")\n",
    "ax1.axvline(x=ratings[\"median\"],c=sns.color_palette(\"Set2\")[2],label=f\"median={round(ratings['median'],2)}\")\n",
    "plt.legend()\n",
    "\n",
    "plt.subplot(1,2,2)\n",
    "ax2 = sns.distplot(df.votes,kde_kws=dict(bw=0.2))\n",
    "ax2.axvline(x=votes[\"mean\"],c=sns.color_palette(\"Set2\")[1],label=f\"mean={round(votes['mean'],2)}\")\n",
    "ax2.axvline(x=votes[\"median\"],c=sns.color_palette(\"Set2\")[2],label=f\"median={round(votes['median'],2)}\")\n",
    "plt.legend()\n",
    "\n",
    "plt.tight_layout()\n",
    "plt.show()"
   ]
  },
  {
   "cell_type": "code",
   "execution_count": 37,
   "metadata": {},
   "outputs": [
    {
     "data": {
      "image/png": "[encoded data removed]",
      "text/plain": [
       "<Figure size 1080x432 with 1 Axes>"
      ]
     },
     "metadata": {
      "needs_background": "light"
     },
     "output_type": "display_data"
    }
   ],
   "source": [
    "buckets = 20\n",
    "plt.figure(figsize=(15,6))\n",
    "bins = pd.qcut(df.votes,buckets,duplicates=\"drop\").value_counts()\n",
    "sns.barplot(x=bins.values,y=bins.index,orient=\"h\")\n",
    "plt.show()\n"
   ]
  },
  {
   "cell_type": "code",
   "execution_count": 38,
   "metadata": {},
   "outputs": [
    {
     "data": {
      "text/html": [
       "<div>\n",
       "<style scoped>\n",
       "    .dataframe tbody tr th:only-of-type {\n",
       "        vertical-align: middle;\n",
       "    }\n",
       "\n",
       "    .dataframe tbody tr th {\n",
       "        vertical-align: top;\n",
       "    }\n",
       "\n",
       "    .dataframe thead th {\n",
       "        text-align: right;\n",
       "    }\n",
       "</style>\n",
       "<table border=\"1\" class=\"dataframe\">\n",
       "  <thead>\n",
       "    <tr style=\"text-align: right;\">\n",
       "      <th></th>\n",
       "      <th>genre</th>\n",
       "      <th>avg_vote</th>\n",
       "      <th>votes</th>\n",
       "    </tr>\n",
       "  </thead>\n",
       "  <tbody>\n",
       "    <tr>\n",
       "      <th>1327</th>\n",
       "      <td>Drama</td>\n",
       "      <td>9.3</td>\n",
       "      <td>2278845</td>\n",
       "    </tr>\n",
       "    <tr>\n",
       "      <th>7836</th>\n",
       "      <td>Action</td>\n",
       "      <td>9.0</td>\n",
       "      <td>2241615</td>\n",
       "    </tr>\n",
       "    <tr>\n",
       "      <th>11122</th>\n",
       "      <td>Action</td>\n",
       "      <td>8.8</td>\n",
       "      <td>2002816</td>\n",
       "    </tr>\n",
       "    <tr>\n",
       "      <th>3181</th>\n",
       "      <td>Drama</td>\n",
       "      <td>8.8</td>\n",
       "      <td>1807440</td>\n",
       "    </tr>\n",
       "    <tr>\n",
       "      <th>1287</th>\n",
       "      <td>Crime</td>\n",
       "      <td>8.9</td>\n",
       "      <td>1780147</td>\n",
       "    </tr>\n",
       "    <tr>\n",
       "      <th>1138</th>\n",
       "      <td>Drama</td>\n",
       "      <td>8.8</td>\n",
       "      <td>1755490</td>\n",
       "    </tr>\n",
       "    <tr>\n",
       "      <th>3130</th>\n",
       "      <td>Action</td>\n",
       "      <td>8.7</td>\n",
       "      <td>1632315</td>\n",
       "    </tr>\n",
       "    <tr>\n",
       "      <th>2837</th>\n",
       "      <td>Action</td>\n",
       "      <td>8.8</td>\n",
       "      <td>1619920</td>\n",
       "    </tr>\n",
       "    <tr>\n",
       "      <th>3708</th>\n",
       "      <td>Action</td>\n",
       "      <td>8.9</td>\n",
       "      <td>1604280</td>\n",
       "    </tr>\n",
       "    <tr>\n",
       "      <th>11057</th>\n",
       "      <td>Action</td>\n",
       "      <td>8.4</td>\n",
       "      <td>1480582</td>\n",
       "    </tr>\n",
       "  </tbody>\n",
       "</table>\n",
       "</div>"
      ],
      "text/plain": [
       "        genre  avg_vote    votes\n",
       "1327    Drama       9.3  2278845\n",
       "7836   Action       9.0  2241615\n",
       "11122  Action       8.8  2002816\n",
       "3181    Drama       8.8  1807440\n",
       "1287    Crime       8.9  1780147\n",
       "1138    Drama       8.8  1755490\n",
       "3130   Action       8.7  1632315\n",
       "2837   Action       8.8  1619920\n",
       "3708   Action       8.9  1604280\n",
       "11057  Action       8.4  1480582"
      ]
     },
     "execution_count": 38,
     "metadata": {},
     "output_type": "execute_result"
    }
   ],
   "source": [
    "df = df.sort_values('votes', ascending=False)\n",
    "df[['genre', 'avg_vote', 'votes']].head(10)"
   ]
  },
  {
   "cell_type": "code",
   "execution_count": 39,
   "metadata": {},
   "outputs": [
    {
     "data": {
      "text/html": [
       "<div>\n",
       "<style scoped>\n",
       "    .dataframe tbody tr th:only-of-type {\n",
       "        vertical-align: middle;\n",
       "    }\n",
       "\n",
       "    .dataframe tbody tr th {\n",
       "        vertical-align: top;\n",
       "    }\n",
       "\n",
       "    .dataframe thead th {\n",
       "        text-align: right;\n",
       "    }\n",
       "</style>\n",
       "<table border=\"1\" class=\"dataframe\">\n",
       "  <thead>\n",
       "    <tr style=\"text-align: right;\">\n",
       "      <th></th>\n",
       "      <th>genre</th>\n",
       "      <th>director</th>\n",
       "      <th>writer</th>\n",
       "      <th>actors_1</th>\n",
       "      <th>actors_2</th>\n",
       "      <th>actors_3</th>\n",
       "      <th>description_word_1</th>\n",
       "      <th>description_word_2</th>\n",
       "      <th>description_word_3</th>\n",
       "      <th>description_word_4</th>\n",
       "      <th>description_word_5</th>\n",
       "      <th>avg_vote</th>\n",
       "      <th>votes</th>\n",
       "    </tr>\n",
       "  </thead>\n",
       "  <tbody>\n",
       "    <tr>\n",
       "      <th>1327</th>\n",
       "      <td>Drama</td>\n",
       "      <td>Frank Darabont</td>\n",
       "      <td>Stephen King</td>\n",
       "      <td>Tim Robbins</td>\n",
       "      <td>Morgan Freeman</td>\n",
       "      <td>Bob Gunton</td>\n",
       "      <td>two</td>\n",
       "      <td>imprisoned</td>\n",
       "      <td>men</td>\n",
       "      <td>bond</td>\n",
       "      <td>number</td>\n",
       "      <td>9.3</td>\n",
       "      <td>2278845</td>\n",
       "    </tr>\n",
       "    <tr>\n",
       "      <th>7836</th>\n",
       "      <td>Action</td>\n",
       "      <td>Christopher Nolan</td>\n",
       "      <td>Jonathan Nolan</td>\n",
       "      <td>Christian Bale</td>\n",
       "      <td>Heath Ledger</td>\n",
       "      <td>Aaron Eckhart</td>\n",
       "      <td>menace</td>\n",
       "      <td>known</td>\n",
       "      <td>joker</td>\n",
       "      <td>wreaks</td>\n",
       "      <td>havoc</td>\n",
       "      <td>9.0</td>\n",
       "      <td>2241615</td>\n",
       "    </tr>\n",
       "    <tr>\n",
       "      <th>11122</th>\n",
       "      <td>Action</td>\n",
       "      <td>Christopher Nolan</td>\n",
       "      <td>Christopher Nolan</td>\n",
       "      <td>Leonardo DiCaprio</td>\n",
       "      <td>Joseph Gordon-Levitt</td>\n",
       "      <td>Ellen Page</td>\n",
       "      <td>thief</td>\n",
       "      <td>steals</td>\n",
       "      <td>corporate</td>\n",
       "      <td>secrets</td>\n",
       "      <td>use</td>\n",
       "      <td>8.8</td>\n",
       "      <td>2002816</td>\n",
       "    </tr>\n",
       "    <tr>\n",
       "      <th>3181</th>\n",
       "      <td>Drama</td>\n",
       "      <td>David Fincher</td>\n",
       "      <td>Chuck Palahniuk</td>\n",
       "      <td>Edward Norton</td>\n",
       "      <td>Brad Pitt</td>\n",
       "      <td>Meat Loaf</td>\n",
       "      <td>insomniac</td>\n",
       "      <td>office</td>\n",
       "      <td>worker</td>\n",
       "      <td>devilmaycare</td>\n",
       "      <td>soapmaker</td>\n",
       "      <td>8.8</td>\n",
       "      <td>1807440</td>\n",
       "    </tr>\n",
       "    <tr>\n",
       "      <th>1287</th>\n",
       "      <td>Crime</td>\n",
       "      <td>Quentin Tarantino</td>\n",
       "      <td>Quentin Tarantino</td>\n",
       "      <td>Tim Roth</td>\n",
       "      <td>Amanda Plummer</td>\n",
       "      <td>Laura Lovelace</td>\n",
       "      <td>lives</td>\n",
       "      <td>two</td>\n",
       "      <td>mob</td>\n",
       "      <td>hitmen</td>\n",
       "      <td>boxer</td>\n",
       "      <td>8.9</td>\n",
       "      <td>1780147</td>\n",
       "    </tr>\n",
       "  </tbody>\n",
       "</table>\n",
       "</div>"
      ],
      "text/plain": [
       "        genre           director             writer             actors_1  \\\n",
       "1327    Drama     Frank Darabont       Stephen King         Tim Robbins    \n",
       "7836   Action  Christopher Nolan     Jonathan Nolan      Christian Bale    \n",
       "11122  Action  Christopher Nolan  Christopher Nolan   Leonardo DiCaprio    \n",
       "3181    Drama      David Fincher    Chuck Palahniuk       Edward Norton    \n",
       "1287    Crime  Quentin Tarantino  Quentin Tarantino            Tim Roth    \n",
       "\n",
       "                       actors_2            actors_3 description_word_1  \\\n",
       "1327            Morgan Freeman          Bob Gunton                two    \n",
       "7836              Heath Ledger       Aaron Eckhart             menace    \n",
       "11122     Joseph Gordon-Levitt          Ellen Page              thief    \n",
       "3181                 Brad Pitt           Meat Loaf          insomniac    \n",
       "1287            Amanda Plummer      Laura Lovelace              lives    \n",
       "\n",
       "      description_word_2 description_word_3 description_word_4  \\\n",
       "1327         imprisoned                men               bond    \n",
       "7836              known              joker             wreaks    \n",
       "11122            steals          corporate            secrets    \n",
       "3181             office             worker       devilmaycare    \n",
       "1287                two                mob             hitmen    \n",
       "\n",
       "      description_word_5  avg_vote    votes  \n",
       "1327             number        9.3  2278845  \n",
       "7836              havoc        9.0  2241615  \n",
       "11122               use        8.8  2002816  \n",
       "3181          soapmaker        8.8  1807440  \n",
       "1287              boxer        8.9  1780147  "
      ]
     },
     "execution_count": 39,
     "metadata": {},
     "output_type": "execute_result"
    }
   ],
   "source": [
    "df.head()"
   ]
  },
  {
   "cell_type": "code",
   "execution_count": 40,
   "metadata": {},
   "outputs": [],
   "source": [
    "from sklearn.preprocessing import OrdinalEncoder\n",
    "enc = OrdinalEncoder()\n",
    "df[[\"genre\"]] = enc.fit_transform(df[[\"genre\"]])\n",
    "df[[\"director\"]] = enc.fit_transform(df[[\"director\"]])\n",
    "df[[\"writer\"]] = enc.fit_transform(df[[\"writer\"]])\n",
    "df[[\"actors_1\"]] = enc.fit_transform(df[[\"actors_1\"]])\n",
    "df[[\"actors_2\"]] = enc.fit_transform(df[[\"actors_2\"]])\n",
    "df[[\"actors_3\"]] = enc.fit_transform(df[[\"actors_3\"]])\n",
    "df[['description_word_1']] = enc.fit_transform(df[['description_word_1']])\n",
    "df[['description_word_2']] = enc.fit_transform(df[['description_word_2']])\n",
    "df[['description_word_3']] = enc.fit_transform(df[['description_word_3']])\n",
    "df[['description_word_4']] = enc.fit_transform(df[['description_word_4']])\n",
    "df[['description_word_5']] = enc.fit_transform(df[['description_word_5']])"
   ]
  },
  {
   "cell_type": "markdown",
   "metadata": {},
   "source": [
    "CLEAN LABEL COLUMN AVG_VOTE"
   ]
  },
  {
   "cell_type": "code",
   "execution_count": 41,
   "metadata": {},
   "outputs": [],
   "source": [
    "# I chose the median to separate good and bad movies in order to a well balanced label column\n",
    "df['avg_vote'] = np.where(df['avg_vote'].between(0,6.4), 0, df['avg_vote'])\n",
    "df['avg_vote'] = np.where(df['avg_vote'].between(6.4,10), 1, df['avg_vote'])"
   ]
  },
  {
   "cell_type": "markdown",
   "metadata": {},
   "source": [
    "#### CHANGE FLOAT COLUMNS BY INTEGERS"
   ]
  },
  {
   "cell_type": "code",
   "execution_count": 42,
   "metadata": {},
   "outputs": [],
   "source": [
    "df['genre'] = df['genre'].astype(int)\n",
    "df['director'] = df['director'].astype(int)\n",
    "df['writer'] = df['writer'].astype(int)\n",
    "df['actors_1'] = df['actors_1'].astype(int)\n",
    "df['actors_2'] = df['actors_2'].astype(int)\n",
    "df['actors_3'] = df['actors_3'].astype(int)\n",
    "df['description_word_1'] = df['description_word_1'].astype(int)\n",
    "df['description_word_2'] = df['description_word_2'].astype(int)\n",
    "df['description_word_3'] = df['description_word_3'].astype(int)\n",
    "df['description_word_4'] = df['description_word_4'].astype(int)\n",
    "df['description_word_5'] = df['description_word_5'].astype(int)\n",
    "df['avg_vote'] = df['avg_vote'].astype(int)"
   ]
  },
  {
   "cell_type": "markdown",
   "metadata": {},
   "source": [
    "#### DIVIDE VOTES BY 100,000"
   ]
  },
  {
   "cell_type": "code",
   "execution_count": 43,
   "metadata": {},
   "outputs": [],
   "source": [
    "df['votes'] = df['votes'].div(100000).round(2)"
   ]
  },
  {
   "cell_type": "code",
   "execution_count": 44,
   "metadata": {},
   "outputs": [
    {
     "data": {
      "text/plain": [
       "(5027, 13)"
      ]
     },
     "execution_count": 44,
     "metadata": {},
     "output_type": "execute_result"
    }
   ],
   "source": [
    "df.shape"
   ]
  },
  {
   "cell_type": "markdown",
   "metadata": {},
   "source": [
    "PROCESSING"
   ]
  },
  {
   "cell_type": "code",
   "execution_count": 45,
   "metadata": {},
   "outputs": [],
   "source": [
    "df = df[['genre','director','writer','actors_1','actors_2','actors_3','description_word_1','description_word_2','description_word_3','description_word_4','description_word_5','votes','avg_vote']]"
   ]
  },
  {
   "cell_type": "code",
   "execution_count": 46,
   "metadata": {},
   "outputs": [],
   "source": [
    "df = df.reset_index(drop=True)"
   ]
  },
  {
   "cell_type": "code",
   "execution_count": 47,
   "metadata": {},
   "outputs": [
    {
     "data": {
      "text/html": [
       "<div>\n",
       "<style scoped>\n",
       "    .dataframe tbody tr th:only-of-type {\n",
       "        vertical-align: middle;\n",
       "    }\n",
       "\n",
       "    .dataframe tbody tr th {\n",
       "        vertical-align: top;\n",
       "    }\n",
       "\n",
       "    .dataframe thead th {\n",
       "        text-align: right;\n",
       "    }\n",
       "</style>\n",
       "<table border=\"1\" class=\"dataframe\">\n",
       "  <thead>\n",
       "    <tr style=\"text-align: right;\">\n",
       "      <th></th>\n",
       "      <th>genre</th>\n",
       "      <th>director</th>\n",
       "      <th>writer</th>\n",
       "      <th>actors_1</th>\n",
       "      <th>actors_2</th>\n",
       "      <th>actors_3</th>\n",
       "      <th>description_word_1</th>\n",
       "      <th>description_word_2</th>\n",
       "      <th>description_word_3</th>\n",
       "      <th>description_word_4</th>\n",
       "      <th>description_word_5</th>\n",
       "      <th>votes</th>\n",
       "      <th>avg_vote</th>\n",
       "    </tr>\n",
       "  </thead>\n",
       "  <tbody>\n",
       "    <tr>\n",
       "      <th>0</th>\n",
       "      <td>6</td>\n",
       "      <td>633</td>\n",
       "      <td>2684</td>\n",
       "      <td>1823</td>\n",
       "      <td>1917</td>\n",
       "      <td>342</td>\n",
       "      <td>2035</td>\n",
       "      <td>1154</td>\n",
       "      <td>1435</td>\n",
       "      <td>246</td>\n",
       "      <td>1718</td>\n",
       "      <td>22.79</td>\n",
       "      <td>1</td>\n",
       "    </tr>\n",
       "    <tr>\n",
       "      <th>1</th>\n",
       "      <td>0</td>\n",
       "      <td>351</td>\n",
       "      <td>1524</td>\n",
       "      <td>343</td>\n",
       "      <td>958</td>\n",
       "      <td>3</td>\n",
       "      <td>1249</td>\n",
       "      <td>1304</td>\n",
       "      <td>1232</td>\n",
       "      <td>2710</td>\n",
       "      <td>1151</td>\n",
       "      <td>22.42</td>\n",
       "      <td>1</td>\n",
       "    </tr>\n",
       "    <tr>\n",
       "      <th>2</th>\n",
       "      <td>0</td>\n",
       "      <td>351</td>\n",
       "      <td>484</td>\n",
       "      <td>1148</td>\n",
       "      <td>1329</td>\n",
       "      <td>923</td>\n",
       "      <td>1951</td>\n",
       "      <td>2136</td>\n",
       "      <td>495</td>\n",
       "      <td>2147</td>\n",
       "      <td>2648</td>\n",
       "      <td>20.03</td>\n",
       "      <td>1</td>\n",
       "    </tr>\n",
       "    <tr>\n",
       "      <th>3</th>\n",
       "      <td>6</td>\n",
       "      <td>449</td>\n",
       "      <td>490</td>\n",
       "      <td>534</td>\n",
       "      <td>294</td>\n",
       "      <td>2135</td>\n",
       "      <td>982</td>\n",
       "      <td>1632</td>\n",
       "      <td>2573</td>\n",
       "      <td>663</td>\n",
       "      <td>2293</td>\n",
       "      <td>18.07</td>\n",
       "      <td>1</td>\n",
       "    </tr>\n",
       "    <tr>\n",
       "      <th>4</th>\n",
       "      <td>5</td>\n",
       "      <td>1598</td>\n",
       "      <td>2330</td>\n",
       "      <td>1824</td>\n",
       "      <td>108</td>\n",
       "      <td>1847</td>\n",
       "      <td>1151</td>\n",
       "      <td>2364</td>\n",
       "      <td>1476</td>\n",
       "      <td>1152</td>\n",
       "      <td>302</td>\n",
       "      <td>17.80</td>\n",
       "      <td>1</td>\n",
       "    </tr>\n",
       "  </tbody>\n",
       "</table>\n",
       "</div>"
      ],
      "text/plain": [
       "   genre  director  writer  actors_1  actors_2  actors_3  description_word_1  \\\n",
       "0      6       633    2684      1823      1917       342                2035   \n",
       "1      0       351    1524       343       958         3                1249   \n",
       "2      0       351     484      1148      1329       923                1951   \n",
       "3      6       449     490       534       294      2135                 982   \n",
       "4      5      1598    2330      1824       108      1847                1151   \n",
       "\n",
       "   description_word_2  description_word_3  description_word_4  \\\n",
       "0                1154                1435                 246   \n",
       "1                1304                1232                2710   \n",
       "2                2136                 495                2147   \n",
       "3                1632                2573                 663   \n",
       "4                2364                1476                1152   \n",
       "\n",
       "   description_word_5  votes  avg_vote  \n",
       "0                1718  22.79         1  \n",
       "1                1151  22.42         1  \n",
       "2                2648  20.03         1  \n",
       "3                2293  18.07         1  \n",
       "4                 302  17.80         1  "
      ]
     },
     "execution_count": 47,
     "metadata": {},
     "output_type": "execute_result"
    }
   ],
   "source": [
    "df.head()"
   ]
  },
  {
   "cell_type": "markdown",
   "metadata": {},
   "source": [
    "CHECK THE BALANCE"
   ]
  },
  {
   "cell_type": "code",
   "execution_count": 48,
   "metadata": {},
   "outputs": [
    {
     "name": "stdout",
     "output_type": "stream",
     "text": [
      "bad: 2583\n",
      "Good: 2444\n"
     ]
    },
    {
     "data": {
      "image/png": "[encoded data removed]",
      "text/plain": [
       "<Figure size 432x288 with 1 Axes>"
      ]
     },
     "metadata": {
      "needs_background": "light"
     },
     "output_type": "display_data"
    }
   ],
   "source": [
    "# show the balance between 0 and 1 in avg_vote column\n",
    "# determine the numbers of values\n",
    "target_count = df.avg_vote.value_counts()\n",
    "# print the numbers of value 0\n",
    "print('bad:', target_count[0])\n",
    "# print the numbers of value 3\n",
    "print('Good:', target_count[1])\n",
    "target_count.plot(kind='bar', title='Average');"
   ]
  },
  {
   "cell_type": "markdown",
   "metadata": {},
   "source": [
    "#### CORRELATION"
   ]
  },
  {
   "cell_type": "code",
   "execution_count": 49,
   "metadata": {
    "scrolled": true
   },
   "outputs": [
    {
     "data": {
      "text/plain": [
       "<AxesSubplot:>"
      ]
     },
     "execution_count": 49,
     "metadata": {},
     "output_type": "execute_result"
    },
    {
     "data": {
      "image/png": "[encoded data removed]",
      "text/plain": [
       "<Figure size 1080x720 with 2 Axes>"
      ]
     },
     "metadata": {
      "needs_background": "light"
     },
     "output_type": "display_data"
    }
   ],
   "source": [
    "# see the correlation coefficients between all columns\n",
    "# set up the size and kind of graph\n",
    "fig, ax = plt.subplots(figsize=(15,10))\n",
    "# define the correlation with a roud of 2\n",
    "correlation_matrix = df.corr().round(2)\n",
    "# display the map style\n",
    "sns.heatmap(data=correlation_matrix, annot=True, ax=ax)"
   ]
  },
  {
   "cell_type": "markdown",
   "metadata": {},
   "source": [
    "TRAIN AND TEST PART OF THE DATASET"
   ]
  },
  {
   "cell_type": "code",
   "execution_count": 50,
   "metadata": {},
   "outputs": [],
   "source": [
    "# define the features and label columns\n",
    "# X is all columns except the average vote\n",
    "X = df[['genre','director','writer','actors_1','actors_2','actors_3','votes','description_word_1','description_word_2','description_word_3','description_word_4','description_word_5']]\n",
    "# y is only average vote\n",
    "y = df.loc[:, df.columns == 'avg_vote']"
   ]
  },
  {
   "cell_type": "code",
   "execution_count": 51,
   "metadata": {},
   "outputs": [],
   "source": [
    "from sklearn.model_selection import train_test_split\n",
    "X_train, X_test, y_train, y_test = train_test_split(X, y, test_size=0.3, random_state=1)"
   ]
  },
  {
   "cell_type": "markdown",
   "metadata": {},
   "source": [
    "# 1ST ALGORITHM - KNN"
   ]
  },
  {
   "cell_type": "code",
   "execution_count": 52,
   "metadata": {},
   "outputs": [
    {
     "name": "stdout",
     "output_type": "stream",
     "text": [
      "Training score kneighbors train: 1.000\n",
      "Testing score kneighbors test: 0.499\n"
     ]
    }
   ],
   "source": [
    "from sklearn.neighbors import KNeighborsClassifier\n",
    "\n",
    "# setup the knn model\n",
    "model_neighbors = KNeighborsClassifier(n_neighbors=1)\n",
    "# fit the knn model\n",
    "model_neighbors.fit(X_train, y_train)\n",
    "# display the train score\n",
    "score_neighbors_train = model_neighbors.score(X_train, y_train)\n",
    "print(\"Training score kneighbors train: {:.3f}\".format(score_neighbors_train))\n",
    "# display the test score\n",
    "score_neighbors_test = model_neighbors.score(X_test, y_test)\n",
    "print(\"Testing score kneighbors test: {:.3f}\".format(score_neighbors_test))"
   ]
  },
  {
   "cell_type": "markdown",
   "metadata": {},
   "source": [
    "#### CROSS VALIDATION"
   ]
  },
  {
   "cell_type": "code",
   "execution_count": 53,
   "metadata": {},
   "outputs": [
    {
     "name": "stdout",
     "output_type": "stream",
     "text": [
      "[0.42147117 0.47713718 0.50746269 0.49253731 0.46268657]\n",
      "Average CV model accuracy: 0.472\n"
     ]
    }
   ],
   "source": [
    "from sklearn.model_selection import cross_val_score, KFold\n",
    "# setup the kfold cv with the number of splits\n",
    "k_fold = KFold(n_splits=5)\n",
    "# define the CV with the model, features, label and cv.\n",
    "scores = cross_val_score(model_neighbors, X, y, cv=k_fold, scoring='accuracy')\n",
    "print(scores)\n",
    "ave = scores.mean()\n",
    "print(\"Average CV model accuracy: {:.3f}\".format(ave))"
   ]
  },
  {
   "cell_type": "markdown",
   "metadata": {},
   "source": [
    "#### KNN WITH GRIDSEARCH CV"
   ]
  },
  {
   "cell_type": "code",
   "execution_count": 54,
   "metadata": {},
   "outputs": [
    {
     "name": "stdout",
     "output_type": "stream",
     "text": [
      "The best score: 0.510\n",
      "Optimal hyperparameter values:  {'n_neighbors': 2, 'weights': 'uniform'}\n"
     ]
    }
   ],
   "source": [
    "from sklearn.model_selection import GridSearchCV\n",
    "\n",
    "# define some parameters in a dictionary\n",
    "k_list = list(range(1,31))\n",
    "weight_list = ['uniform','distance']\n",
    "para_grid = dict(n_neighbors=k_list, weights=weight_list)\n",
    "\n",
    "# setup grid search with the model, parameters and some default parameters\n",
    "grid = GridSearchCV(model_neighbors, para_grid, cv=5, scoring='accuracy', return_train_score=False)\n",
    "# fit the model\n",
    "grid.fit(X, y)\n",
    "\n",
    "pd.DataFrame(grid.cv_results_)[['mean_test_score', 'params']]\n",
    "\n",
    "# print the best score\n",
    "print(\"The best score: {:.3f}\".format(grid.best_score_))\n",
    "# print the best parameters\n",
    "print(\"Optimal hyperparameter values: \", grid.best_params_)"
   ]
  },
  {
   "cell_type": "code",
   "execution_count": 55,
   "metadata": {},
   "outputs": [
    {
     "name": "stdout",
     "output_type": "stream",
     "text": [
      "Training score kneighbors train: 0.574\n",
      "Testing score kneighbors test: 0.497\n"
     ]
    }
   ],
   "source": [
    "# setup the knn model\n",
    "model_neighbors = KNeighborsClassifier(n_neighbors= 30, weights= 'uniform')\n",
    "# fit the knn model\n",
    "model_neighbors.fit(X_train, y_train)\n",
    "# display the train score\n",
    "score_neighbors_train = model_neighbors.score(X_train, y_train)\n",
    "print(\"Training score kneighbors train: {:.3f}\".format(score_neighbors_train))\n",
    "# display the test score\n",
    "score_neighbors_test = model_neighbors.score(X_test, y_test)\n",
    "print(\"Testing score kneighbors test: {:.3f}\".format(score_neighbors_test))"
   ]
  },
  {
   "cell_type": "markdown",
   "metadata": {},
   "source": [
    "#### KNN WITH RANDOMIZE"
   ]
  },
  {
   "cell_type": "code",
   "execution_count": 56,
   "metadata": {},
   "outputs": [
    {
     "name": "stdout",
     "output_type": "stream",
     "text": [
      "The best score: 0.501\n",
      "Optimal hyperparameter values:  {'weights': 'distance', 'n_neighbors': 69, 'metric': 'chebyshev'}\n"
     ]
    }
   ],
   "source": [
    "from sklearn.model_selection import RandomizedSearchCV\n",
    "\n",
    "# define some parameters for randomize in a dictioanry\n",
    "n_neighbors = [int(x) for x in np.linspace(start = 1, stop = 100, num = 50)]   \n",
    "weights = ['uniform','distance']\n",
    "metric = ['euclidean','manhattan','chebyshev','seuclidean','minkowski'] \n",
    "random_grid = {\n",
    "    'n_neighbors': n_neighbors,\n",
    "    'weights': weights,\n",
    "    'metric': metric,\n",
    "}\n",
    "\n",
    "# setup randomize with the model, parameters, cv and default parameters\n",
    "rand = RandomizedSearchCV(model_neighbors, random_grid, cv=5, scoring='accuracy', return_train_score=False, n_iter=10, random_state=5)\n",
    "# fit the model\n",
    "rand.fit(X, y)\n",
    "\n",
    "pd.DataFrame(rand.cv_results_)[[\"mean_test_score\",\"params\"]]\n",
    "\n",
    "# print the best score\n",
    "print(\"The best score: {:.3f}\".format(rand.best_score_))\n",
    "# print the best parameters\n",
    "print(\"Optimal hyperparameter values: \", rand.best_params_)"
   ]
  },
  {
   "cell_type": "code",
   "execution_count": 57,
   "metadata": {},
   "outputs": [
    {
     "name": "stdout",
     "output_type": "stream",
     "text": [
      "Training score kneighbors: 1.000\n",
      "Testing score kneighbors: 0.478\n"
     ]
    }
   ],
   "source": [
    "# re run with best randomize parameters\n",
    "from sklearn.neighbors import KNeighborsClassifier\n",
    "\n",
    "knn_ran = KNeighborsClassifier(n_neighbors=69, weights='distance', metric='chebyshev')\n",
    "knn_ran.fit(X_train, y_train)\n",
    "score_neighbors_ran_train = knn_ran.score(X_train, y_train)\n",
    "print(\"Training score kneighbors: {:.3f}\".format(score_neighbors_ran_train))\n",
    "score_neighbors_ran_test = knn_ran.score(X_test, y_test)\n",
    "print(\"Testing score kneighbors: {:.3f}\".format(score_neighbors_ran_test))"
   ]
  },
  {
   "cell_type": "markdown",
   "metadata": {},
   "source": [
    "#### STANDARD SCALER"
   ]
  },
  {
   "cell_type": "code",
   "execution_count": 58,
   "metadata": {},
   "outputs": [
    {
     "name": "stdout",
     "output_type": "stream",
     "text": [
      "Training score standard-scaler: 0.520\n",
      "Testing score standard-scaler: 0.499\n"
     ]
    }
   ],
   "source": [
    "from sklearn.preprocessing import StandardScaler\n",
    "\n",
    "#setup standard scaler\n",
    "sc = StandardScaler()\n",
    "\n",
    "# transform  X_train\n",
    "X_train_sc = sc.fit_transform(X_train)\n",
    "# transform  X_test\n",
    "X_test_sc = sc.transform(X_test)\n",
    "\n",
    "# print score training \n",
    "sc_score_knn_train = model_neighbors.score(X_train_sc, y_train)\n",
    "print(\"Training score standard-scaler: {:.3f}\".format(sc_score_knn_train))\n",
    "# print scores testing \n",
    "sc_score_knn_test = model_neighbors.score(X_test_sc, y_test)\n",
    "print(\"Testing score standard-scaler: {:.3f}\".format(sc_score_knn_test))"
   ]
  },
  {
   "cell_type": "markdown",
   "metadata": {},
   "source": [
    "# 2nd ALGORITHM - LOGISTIC REGRESSION"
   ]
  },
  {
   "cell_type": "code",
   "execution_count": 59,
   "metadata": {},
   "outputs": [],
   "source": [
    "from sklearn.linear_model import LogisticRegression\n",
    "# instantiate the model (using the default parameters)\n",
    "logreg = LogisticRegression()\n",
    "# fit the model with data\n",
    "logreg.fit(X_train,y_train)\n",
    "y_pred=logreg.predict(X_test)"
   ]
  },
  {
   "cell_type": "markdown",
   "metadata": {},
   "source": [
    "#### CROSS VALIDATION"
   ]
  },
  {
   "cell_type": "code",
   "execution_count": 60,
   "metadata": {},
   "outputs": [
    {
     "name": "stdout",
     "output_type": "stream",
     "text": [
      "[0.81809145 0.527833   0.56218905 0.61890547 0.69850746]\n",
      "Average CV model accuracy: 0.645\n"
     ]
    }
   ],
   "source": [
    "# setup the kfold cv with the number of splits\n",
    "k_fold = KFold(n_splits=5)\n",
    "# define the CV with the model, features, label and cv.\n",
    "scores = cross_val_score(logreg, X, y, cv=k_fold, scoring='accuracy')\n",
    "print(scores)\n",
    "ave = scores.mean()\n",
    "print(\"Average CV model accuracy: {:.3f}\".format(ave))"
   ]
  },
  {
   "cell_type": "code",
   "execution_count": 61,
   "metadata": {},
   "outputs": [
    {
     "name": "stdout",
     "output_type": "stream",
     "text": [
      "Training score regression train: 0.655\n",
      "Testing score regression test: 0.657\n"
     ]
    }
   ],
   "source": [
    "logreg_train = logreg.score(X_train, y_train)\n",
    "print(\"Training score regression train: {:.3f}\".format(logreg_train))\n",
    "# display the test score\n",
    "logreg_test = logreg.score(X_test, y_test)\n",
    "print(\"Testing score regression test: {:.3f}\".format(logreg_test))"
   ]
  },
  {
   "cell_type": "markdown",
   "metadata": {},
   "source": [
    "# 3RD ALGORITHM - RANDOM FOREST CLASSIFIER"
   ]
  },
  {
   "cell_type": "code",
   "execution_count": 62,
   "metadata": {},
   "outputs": [
    {
     "name": "stdout",
     "output_type": "stream",
     "text": [
      "RFC Training score: 100.0%\n",
      "RFC Testing score: 70.0%\n"
     ]
    }
   ],
   "source": [
    "from sklearn.ensemble import RandomForestClassifier\n",
    "\n",
    "# setup rf model\n",
    "rf = RandomForestClassifier()\n",
    "# fit the model\n",
    "rf.fit(X_train, y_train)\n",
    "# store the training result\n",
    "accuracy_RFC_train = rf.score(X_train, y_train)\n",
    "# print the training result\n",
    "print(\"RFC Training score: {:.1f}%\".format(accuracy_RFC_train*100))\n",
    "# store the testing result\n",
    "accuracy_RFC_test = rf.score(X_test, y_test)\n",
    "# print the testing result\n",
    "print(\"RFC Testing score: {:.1f}%\".format(accuracy_RFC_test*100))"
   ]
  },
  {
   "cell_type": "markdown",
   "metadata": {},
   "source": [
    "#### CROSS VALIDATION"
   ]
  },
  {
   "cell_type": "code",
   "execution_count": 63,
   "metadata": {},
   "outputs": [
    {
     "name": "stdout",
     "output_type": "stream",
     "text": [
      "[0.61729622 0.62723658 0.62985075 0.66467662 0.71243781]\n",
      "Average CV model accuracy: 0.650\n"
     ]
    }
   ],
   "source": [
    "# setup the kfold cv with the number of splits\n",
    "k_fold = KFold(n_splits=5)\n",
    "# define the CV with the model, features, label and cv.\n",
    "scores = cross_val_score(rf, X, y, cv=k_fold, scoring='accuracy')\n",
    "print(scores)\n",
    "ave = scores.mean()\n",
    "print(\"Average CV model accuracy: {:.3f}\".format(ave))"
   ]
  },
  {
   "cell_type": "markdown",
   "metadata": {},
   "source": [
    "#### GRID SEARCH "
   ]
  },
  {
   "cell_type": "code",
   "execution_count": 64,
   "metadata": {},
   "outputs": [],
   "source": [
    "parameters = {\n",
    "    \"n_estimators\":[5,10,50,100,250],\n",
    "    \"max_depth\":[2,4,8,16,32,None]\n",
    "}"
   ]
  },
  {
   "cell_type": "code",
   "execution_count": 65,
   "metadata": {},
   "outputs": [
    {
     "data": {
      "text/plain": [
       "GridSearchCV(cv=5, estimator=RandomForestClassifier(),\n",
       "             param_grid={'max_depth': [2, 4, 8, 16, 32, None],\n",
       "                         'n_estimators': [5, 10, 50, 100, 250]})"
      ]
     },
     "execution_count": 65,
     "metadata": {},
     "output_type": "execute_result"
    }
   ],
   "source": [
    "cv = GridSearchCV(rf,parameters,cv=5)\n",
    "cv.fit(X_train,y_train)"
   ]
  },
  {
   "cell_type": "code",
   "execution_count": 66,
   "metadata": {},
   "outputs": [
    {
     "name": "stdout",
     "output_type": "stream",
     "text": [
      "Best parameters are: {'max_depth': None, 'n_estimators': 250}\n",
      "\n",
      "\n",
      "0.627 + or -0.037 for the {'max_depth': 2, 'n_estimators': 5}\n",
      "0.651 + or -0.008 for the {'max_depth': 2, 'n_estimators': 10}\n",
      "0.655 + or -0.017 for the {'max_depth': 2, 'n_estimators': 50}\n",
      "0.657 + or -0.012 for the {'max_depth': 2, 'n_estimators': 100}\n",
      "0.655 + or -0.019 for the {'max_depth': 2, 'n_estimators': 250}\n",
      "0.656 + or -0.014 for the {'max_depth': 4, 'n_estimators': 5}\n",
      "0.665 + or -0.005 for the {'max_depth': 4, 'n_estimators': 10}\n",
      "0.671 + or -0.009 for the {'max_depth': 4, 'n_estimators': 50}\n",
      "0.671 + or -0.012 for the {'max_depth': 4, 'n_estimators': 100}\n",
      "0.674 + or -0.01 for the {'max_depth': 4, 'n_estimators': 250}\n",
      "0.668 + or -0.019 for the {'max_depth': 8, 'n_estimators': 5}\n",
      "0.677 + or -0.02 for the {'max_depth': 8, 'n_estimators': 10}\n",
      "0.697 + or -0.014 for the {'max_depth': 8, 'n_estimators': 50}\n",
      "0.698 + or -0.018 for the {'max_depth': 8, 'n_estimators': 100}\n",
      "0.701 + or -0.018 for the {'max_depth': 8, 'n_estimators': 250}\n",
      "0.644 + or -0.022 for the {'max_depth': 16, 'n_estimators': 5}\n",
      "0.671 + or -0.011 for the {'max_depth': 16, 'n_estimators': 10}\n",
      "0.692 + or -0.015 for the {'max_depth': 16, 'n_estimators': 50}\n",
      "0.704 + or -0.013 for the {'max_depth': 16, 'n_estimators': 100}\n",
      "0.706 + or -0.023 for the {'max_depth': 16, 'n_estimators': 250}\n",
      "0.649 + or -0.018 for the {'max_depth': 32, 'n_estimators': 5}\n",
      "0.664 + or -0.006 for the {'max_depth': 32, 'n_estimators': 10}\n",
      "0.702 + or -0.017 for the {'max_depth': 32, 'n_estimators': 50}\n",
      "0.701 + or -0.021 for the {'max_depth': 32, 'n_estimators': 100}\n",
      "0.702 + or -0.018 for the {'max_depth': 32, 'n_estimators': 250}\n",
      "0.649 + or -0.012 for the {'max_depth': None, 'n_estimators': 5}\n",
      "0.665 + or -0.026 for the {'max_depth': None, 'n_estimators': 10}\n",
      "0.691 + or -0.027 for the {'max_depth': None, 'n_estimators': 50}\n",
      "0.7 + or -0.021 for the {'max_depth': None, 'n_estimators': 100}\n",
      "0.709 + or -0.017 for the {'max_depth': None, 'n_estimators': 250}\n"
     ]
    }
   ],
   "source": [
    "def display(results):\n",
    "    print(f'Best parameters are: {results.best_params_}')\n",
    "    print(\"\\n\")\n",
    "    mean_score = results.cv_results_['mean_test_score']\n",
    "    std_score = results.cv_results_['std_test_score']\n",
    "    params = results.cv_results_['params']\n",
    "    for mean,std,params in zip(mean_score,std_score,params):\n",
    "        print(f'{round(mean,3)} + or -{round(std,3)} for the {params}')\n",
    "display(cv)"
   ]
  },
  {
   "cell_type": "code",
   "execution_count": 67,
   "metadata": {},
   "outputs": [
    {
     "name": "stdout",
     "output_type": "stream",
     "text": [
      "RFC Training score: 79.5%\n",
      "RFC Testing score: 68.3%\n"
     ]
    }
   ],
   "source": [
    "# setup rf model\n",
    "rfc = RandomForestClassifier(n_estimators=50,max_depth=8)\n",
    "# fit the model\n",
    "rfc.fit(X_train, y_train)\n",
    "# store the training result\n",
    "accuracy_RFC_train = rfc.score(X_train, y_train)\n",
    "# print the training result\n",
    "print(\"RFC Training score: {:.1f}%\".format(accuracy_RFC_train*100))\n",
    "# store the testing result\n",
    "accuracy_RFC_test = rfc.score(X_test, y_test)\n",
    "# print the testing result\n",
    "print(\"RFC Testing score: {:.1f}%\".format(accuracy_RFC_test*100))"
   ]
  },
  {
   "cell_type": "markdown",
   "metadata": {},
   "source": [
    "# 4TH ALGORITHM - SUPPORT VECTOR CLASSIFIER "
   ]
  },
  {
   "cell_type": "code",
   "execution_count": 68,
   "metadata": {},
   "outputs": [],
   "source": [
    "from sklearn.svm import SVC\n",
    "from sklearn.metrics import accuracy_score\n",
    "\n",
    "svc = SVC(kernel='linear', C=1, gamma='auto')\n",
    "svc.fit(X,y)\n",
    "y_pred_svc = svc.predict(X_test)\n",
    "print(accuracy_score(y_test,y_pred_svc))"
   ]
  },
  {
   "cell_type": "markdown",
   "metadata": {},
   "source": [
    "#### CROSS VALIDATION"
   ]
  },
  {
   "cell_type": "code",
   "execution_count": 69,
   "metadata": {},
   "outputs": [],
   "source": [
    "from sklearn.model_selection import cross_val_score, KFold\n",
    "# setup the kfold cv with the number of splits\n",
    "k_fold = KFold(n_splits=5)\n",
    "# define the CV with the model, features, label and cv.\n",
    "scores = cross_val_score(svc, X, y, cv=k_fold, scoring='accuracy')\n",
    "print(scores)\n",
    "ave = scores.mean()\n",
    "print(\"Average CV model accuracy: {:.3f}\".format(ave))"
   ]
  },
  {
   "cell_type": "markdown",
   "metadata": {},
   "source": [
    "# 5TH ALGORITHM - GRADIENT TREE BOOSTING"
   ]
  },
  {
   "cell_type": "code",
   "execution_count": 70,
   "metadata": {},
   "outputs": [],
   "source": [
    "from sklearn.ensemble import GradientBoostingRegressor\n",
    "from sklearn.metrics import mean_squared_error\n",
    "from sklearn.metrics import mean_absolute_error"
   ]
  },
  {
   "cell_type": "code",
   "execution_count": 71,
   "metadata": {},
   "outputs": [
    {
     "data": {
      "text/plain": [
       "GradientBoostingRegressor()"
      ]
     },
     "execution_count": 71,
     "metadata": {},
     "output_type": "execute_result"
    }
   ],
   "source": [
    "regressor = GradientBoostingRegressor()\n",
    "regressor.fit(X_train, y_train)"
   ]
  },
  {
   "cell_type": "code",
   "execution_count": 72,
   "metadata": {},
   "outputs": [],
   "source": [
    "errors = [mean_squared_error(y_test, y_pred) for y_pred in regressor.staged_predict(X_test)]\n",
    "best_n_estimators = np.argmin(errors)"
   ]
  },
  {
   "cell_type": "code",
   "execution_count": 73,
   "metadata": {},
   "outputs": [
    {
     "data": {
      "text/plain": [
       "GradientBoostingRegressor(learning_rate=1.0, max_depth=2, n_estimators=85)"
      ]
     },
     "execution_count": 73,
     "metadata": {},
     "output_type": "execute_result"
    }
   ],
   "source": [
    "best_regressor = GradientBoostingRegressor(\n",
    "    max_depth=2,\n",
    "    n_estimators=best_n_estimators,\n",
    "    learning_rate=1.0\n",
    ")\n",
    "best_regressor.fit(X_train, y_train)"
   ]
  },
  {
   "cell_type": "code",
   "execution_count": 74,
   "metadata": {},
   "outputs": [
    {
     "data": {
      "text/plain": [
       "0.3976843999508463"
      ]
     },
     "execution_count": 74,
     "metadata": {},
     "output_type": "execute_result"
    }
   ],
   "source": [
    "y_pred = best_regressor.predict(X_test)\n",
    "mean_absolute_error(y_test, y_pred)"
   ]
  },
  {
   "cell_type": "code",
   "execution_count": 75,
   "metadata": {},
   "outputs": [
    {
     "name": "stdout",
     "output_type": "stream",
     "text": [
      "GTB Training score: 49.7%\n",
      "GTB Testing score: 8.5%\n"
     ]
    }
   ],
   "source": [
    "accuracy_GTB_train = best_regressor.score(X_train, y_train)\n",
    "# print the training result\n",
    "print(\"GTB Training score: {:.1f}%\".format(accuracy_GTB_train*100))\n",
    "# store the testing result\n",
    "accuracy_GTB_test = best_regressor.score(X_test, y_test)\n",
    "# print the testing result\n",
    "print(\"GTB Testing score: {:.1f}%\".format(accuracy_GTB_test*100))"
   ]
  },
  {
   "cell_type": "markdown",
   "metadata": {},
   "source": [
    "# 6TH ALGORITHM - ADAPTIVE TREE BOOSTING"
   ]
  },
  {
   "cell_type": "code",
   "execution_count": 76,
   "metadata": {},
   "outputs": [],
   "source": [
    "from sklearn.ensemble import AdaBoostClassifier\n",
    "from sklearn.tree import DecisionTreeClassifier\n",
    "ada = AdaBoostClassifier(n_estimators=50,\n",
    "                         learning_rate=1)\n",
    "model = ada.fit(X_train, y_train)"
   ]
  },
  {
   "cell_type": "code",
   "execution_count": 77,
   "metadata": {},
   "outputs": [],
   "source": [
    "tree = DecisionTreeClassifier(criterion='entropy')\n",
    "booster = AdaBoostClassifier(base_estimator=tree)\n",
    "booster = booster.fit(X, y)"
   ]
  },
  {
   "cell_type": "code",
   "execution_count": 78,
   "metadata": {},
   "outputs": [
    {
     "name": "stdout",
     "output_type": "stream",
     "text": [
      "Training score ada train: 0.738\n",
      "Testing score ada test: 0.710\n"
     ]
    }
   ],
   "source": [
    "# display the train score\n",
    "score_ada_train = ada.score(X_train, y_train)\n",
    "print(\"Training score ada train: {:.3f}\".format(score_ada_train))\n",
    "# display the test score\n",
    "score_ada_test = ada.score(X_test, y_test)\n",
    "print(\"Testing score ada test: {:.3f}\".format(score_ada_test))"
   ]
  },
  {
   "cell_type": "markdown",
   "metadata": {},
   "source": [
    "# 7TH ALGORITHM - NEURAL NETWORK"
   ]
  },
  {
   "cell_type": "code",
   "execution_count": 79,
   "metadata": {},
   "outputs": [],
   "source": [
    "from sklearn.neural_network import MLPClassifier"
   ]
  },
  {
   "cell_type": "code",
   "execution_count": 80,
   "metadata": {},
   "outputs": [
    {
     "data": {
      "text/plain": [
       "MLPClassifier(alpha=1e-05, hidden_layer_sizes=(5, 2), random_state=1,\n",
       "              solver='lbfgs')"
      ]
     },
     "execution_count": 80,
     "metadata": {},
     "output_type": "execute_result"
    }
   ],
   "source": [
    "clf = MLPClassifier(solver='lbfgs', alpha=1e-5, hidden_layer_sizes=(5, 2), random_state=1)\n",
    "clf.fit(X, y)"
   ]
  },
  {
   "cell_type": "code",
   "execution_count": 81,
   "metadata": {},
   "outputs": [],
   "source": [
    "from sklearn.preprocessing import StandardScaler  \n",
    "scaler = StandardScaler()  \n",
    "# Don't cheat - fit only on training data\n",
    "scaler.fit(X_train)  \n",
    "X_train = scaler.transform(X_train)  \n",
    "# apply same transformation to test data\n",
    "X_test = scaler.transform(X_test) "
   ]
  },
  {
   "cell_type": "code",
   "execution_count": 82,
   "metadata": {},
   "outputs": [
    {
     "name": "stdout",
     "output_type": "stream",
     "text": [
      "Training score clf train: 0.517\n",
      "Testing score clf test: 0.506\n"
     ]
    }
   ],
   "source": [
    "# display the train score\n",
    "score_CLF_train = clf.score(X_train, y_train)\n",
    "print(\"Training score clf train: {:.3f}\".format(score_CLF_train))\n",
    "# display the test score\n",
    "score_CLF_test = clf.score(X_test, y_test)\n",
    "print(\"Testing score clf test: {:.3f}\".format(score_CLF_test))"
   ]
  },
  {
   "cell_type": "markdown",
   "metadata": {},
   "source": [
    "# SUMMARY"
   ]
  },
  {
   "cell_type": "code",
   "execution_count": 83,
   "metadata": {},
   "outputs": [
    {
     "name": "stdout",
     "output_type": "stream",
     "text": [
      "KNN: 49.9\n",
      "LOGISTIC REGRESSION: 65.7\n",
      "RFC : 68.3%\n",
      "GTB: 8.5%\n",
      "ADA BOOST: 71.0\n",
      "NEURAL NETWORK: 50.6\n"
     ]
    }
   ],
   "source": [
    "print(\"KNN: {:.1f}\".format(sc_score_knn_test*100))\n",
    "print(\"LOGISTIC REGRESSION: {:.1f}\".format(logreg_test*100))\n",
    "print(\"RFC : {:.1f}%\".format(accuracy_RFC_test*100))\n",
    "print(\"SVC : {:.1f}%\".format(accuracy_score(y_test,y_pred_svc)*100))\n",
    "print(\"GTB: {:.1f}%\".format(accuracy_GTB_test*100))\n",
    "print(\"ADA BOOST: {:.1f}\".format(score_ada_test*100))\n",
    "print(\"NEURAL NETWORK: {:.1f}\".format(score_CLF_test*100))"
   ]
  },
  {
   "cell_type": "code",
   "execution_count": 84,
   "metadata": {},
   "outputs": [],
   "source": [
    "A = sc_score_knn_test*100\n",
    "B = logreg_test*100\n",
    "C = accuracy_RFC_test*100\n",
    "#D = accuracy_score(y_test,y_pred_svc)*100\n",
    "E = accuracy_GTB_test*100\n",
    "F = score_ada_test*100\n",
    "G = score_CLF_test*100"
   ]
  },
  {
   "cell_type": "code",
   "execution_count": 85,
   "metadata": {},
   "outputs": [
    {
     "ename": "NameError",
     "evalue": "name 'D' is not defined",
     "output_type": "error",
     "traceback": [
      "\u001b[1;31m---------------------------------------------------------------------------\u001b[0m",
      "\u001b[1;31mNameError\u001b[0m                                 Traceback (most recent call last)",
      "\u001b[1;32m~\\AppData\\Local\\Temp/ipykernel_1896/505923827.py\u001b[0m in \u001b[0;36m<module>\u001b[1;34m\u001b[0m\n\u001b[0;32m      1\u001b[0m \u001b[0malgorithms\u001b[0m \u001b[1;33m=\u001b[0m \u001b[1;33m[\u001b[0m\u001b[1;34m'KNN'\u001b[0m\u001b[1;33m,\u001b[0m\u001b[1;34m'LG'\u001b[0m\u001b[1;33m,\u001b[0m\u001b[1;34m'RFC'\u001b[0m\u001b[1;33m,\u001b[0m\u001b[1;34m'SVC'\u001b[0m\u001b[1;33m,\u001b[0m\u001b[1;34m'GTB'\u001b[0m\u001b[1;33m,\u001b[0m\u001b[1;34m'ADA'\u001b[0m\u001b[1;33m,\u001b[0m\u001b[1;34m'ANN'\u001b[0m\u001b[1;33m]\u001b[0m\u001b[1;33m\u001b[0m\u001b[1;33m\u001b[0m\u001b[0m\n\u001b[1;32m----> 2\u001b[1;33m \u001b[0mresults\u001b[0m \u001b[1;33m=\u001b[0m \u001b[1;33m[\u001b[0m\u001b[0mA\u001b[0m\u001b[1;33m,\u001b[0m\u001b[0mB\u001b[0m\u001b[1;33m,\u001b[0m\u001b[0mC\u001b[0m\u001b[1;33m,\u001b[0m\u001b[0mD\u001b[0m\u001b[1;33m,\u001b[0m\u001b[0mE\u001b[0m\u001b[1;33m,\u001b[0m\u001b[0mF\u001b[0m\u001b[1;33m,\u001b[0m\u001b[0mG\u001b[0m\u001b[1;33m]\u001b[0m\u001b[1;33m\u001b[0m\u001b[1;33m\u001b[0m\u001b[0m\n\u001b[0m\u001b[0;32m      3\u001b[0m \u001b[0mplt\u001b[0m\u001b[1;33m.\u001b[0m\u001b[0mfigure\u001b[0m\u001b[1;33m(\u001b[0m\u001b[0mfigsize\u001b[0m \u001b[1;33m=\u001b[0m \u001b[1;33m(\u001b[0m\u001b[1;36m12\u001b[0m\u001b[1;33m,\u001b[0m\u001b[1;36m7\u001b[0m\u001b[1;33m)\u001b[0m\u001b[1;33m)\u001b[0m\u001b[1;33m\u001b[0m\u001b[1;33m\u001b[0m\u001b[0m\n\u001b[0;32m      4\u001b[0m \u001b[0mplt\u001b[0m\u001b[1;33m.\u001b[0m\u001b[0mbar\u001b[0m\u001b[1;33m(\u001b[0m\u001b[0malgorithms\u001b[0m\u001b[1;33m,\u001b[0m \u001b[0mresults\u001b[0m\u001b[1;33m,\u001b[0m \u001b[0mwidth\u001b[0m\u001b[1;33m=\u001b[0m \u001b[1;36m0.7\u001b[0m\u001b[1;33m,\u001b[0m \u001b[0malign\u001b[0m\u001b[1;33m=\u001b[0m\u001b[1;34m'center'\u001b[0m\u001b[1;33m,\u001b[0m\u001b[0mcolor\u001b[0m\u001b[1;33m=\u001b[0m\u001b[1;34m'blue'\u001b[0m\u001b[1;33m,\u001b[0m \u001b[0medgecolor\u001b[0m \u001b[1;33m=\u001b[0m \u001b[1;34m'red'\u001b[0m\u001b[1;33m)\u001b[0m\u001b[1;33m\u001b[0m\u001b[1;33m\u001b[0m\u001b[0m\n\u001b[0;32m      5\u001b[0m \u001b[0mplt\u001b[0m\u001b[1;33m.\u001b[0m\u001b[0mlegend\u001b[0m\u001b[1;33m(\u001b[0m\u001b[0mlabels\u001b[0m \u001b[1;33m=\u001b[0m \u001b[1;33m[\u001b[0m\u001b[1;34m'Results'\u001b[0m\u001b[1;33m]\u001b[0m\u001b[1;33m)\u001b[0m\u001b[1;33m\u001b[0m\u001b[1;33m\u001b[0m\u001b[0m\n",
      "\u001b[1;31mNameError\u001b[0m: name 'D' is not defined"
     ]
    }
   ],
   "source": [
    "algorithms = ['KNN','LG','RFC','SVC','GTB','ADA','ANN']\n",
    "results = [A,B,C,D,E,F,G]\n",
    "plt.figure(figsize = (12,7))\n",
    "plt.bar(algorithms, results, width= 0.7, align='center',color='blue', edgecolor = 'red')\n",
    "plt.legend(labels = ['Results'])\n",
    "plt.title(\"Algorithm's Results\")\n",
    "plt.xlabel('Algorithms')\n",
    "plt.ylabel('Results')\n",
    "plt.ylim(ymin=0)\n",
    "plt.ylim(ymax=100)\n",
    "plt.axhline(y=50, color='gray', linestyle='-', linewidth=1)\n",
    "plt.axhline(y=75, color='gray', linestyle='-', linewidth=1)\n",
    "plt.axhline(y=25, color='gray', linestyle='-', linewidth=1)\n",
    "\n",
    "plt.show()"
   ]
  },
  {
   "cell_type": "markdown",
   "metadata": {},
   "source": [
    "#### CONFUSION MATRIX"
   ]
  },
  {
   "cell_type": "code",
   "execution_count": 89,
   "metadata": {},
   "outputs": [
    {
     "data": {
      "image/png": "[encoded data removed]",
      "text/plain": [
       "<Figure size 432x288 with 2 Axes>"
      ]
     },
     "metadata": {
      "needs_background": "light"
     },
     "output_type": "display_data"
    }
   ],
   "source": [
    "from sklearn.datasets import make_classification\n",
    "from sklearn.metrics import confusion_matrix, ConfusionMatrixDisplay\n",
    "\n",
    "predictions = logreg.predict(X_test)\n",
    "cm = confusion_matrix(y_test, predictions)\n",
    "disp = ConfusionMatrixDisplay(confusion_matrix=cm)\n",
    "disp.plot()\n",
    "# CODE TO GENERATE SUMMARY STATISTICS & TEXT FOR SUMMARY STATS\n",
    "accuracy  = np.trace(cm) / float(np.sum(cm))\n",
    "stats_text = \"\\n\\n\\nEVALUATION METRICS\\n\\nAccuracy={:0.4f}\\n\".format(accuracy)\n",
    "\n",
    "# SET FIGURE PARAMETERS ACCORDING TO OTHER ARGUMENTS\n",
    "figsize = plt.rcParams.get('figure.figsize')\n",
    "\n",
    "plt.ylabel('True label')\n",
    "plt.xlabel('Predicted label' + stats_text)\n",
    "plt.title(\"All Dataset:\")\n",
    "plt.show()"
   ]
  },
  {
   "cell_type": "markdown",
   "metadata": {},
   "source": [
    "#### EVALUATION METRICS"
   ]
  },
  {
   "cell_type": "code",
   "execution_count": 88,
   "metadata": {},
   "outputs": [
    {
     "data": {
      "text/html": [
       "<div>\n",
       "<style scoped>\n",
       "    .dataframe tbody tr th:only-of-type {\n",
       "        vertical-align: middle;\n",
       "    }\n",
       "\n",
       "    .dataframe tbody tr th {\n",
       "        vertical-align: top;\n",
       "    }\n",
       "\n",
       "    .dataframe thead th {\n",
       "        text-align: right;\n",
       "    }\n",
       "</style>\n",
       "<table border=\"1\" class=\"dataframe\">\n",
       "  <thead>\n",
       "    <tr style=\"text-align: right;\">\n",
       "      <th></th>\n",
       "      <th>Score</th>\n",
       "    </tr>\n",
       "  </thead>\n",
       "  <tbody>\n",
       "    <tr>\n",
       "      <th>accuracy</th>\n",
       "      <td>0.499006</td>\n",
       "    </tr>\n",
       "    <tr>\n",
       "      <th>recall</th>\n",
       "      <td>0.000000</td>\n",
       "    </tr>\n",
       "    <tr>\n",
       "      <th>precision</th>\n",
       "      <td>0.000000</td>\n",
       "    </tr>\n",
       "  </tbody>\n",
       "</table>\n",
       "</div>"
      ],
      "text/plain": [
       "              Score\n",
       "accuracy   0.499006\n",
       "recall     0.000000\n",
       "precision  0.000000"
      ]
     },
     "execution_count": 88,
     "metadata": {},
     "output_type": "execute_result"
    }
   ],
   "source": [
    "from sklearn.metrics import classification_report, accuracy_score, recall_score, precision_score, f1_score, roc_auc_score\n",
    "y_test_pred_knn = model_neighbors.predict(X_test)\n",
    "pd.DataFrame(data = [\n",
    "        accuracy_score(y_test, y_test_pred_knn),\n",
    "        recall_score(y_test, y_test_pred_knn),\n",
    "        precision_score(y_test, y_test_pred_knn)],\n",
    "    index = [\"accuracy\", \"recall\", \"precision\"],\n",
    "    columns = ['Score'])"
   ]
  }
 ],
 "metadata": {
  "interpreter": {
   "hash": "4ee287b133d26eeecd614e8f3ed920759eef25616b69237c61592ae6d0c89b24"
  },
  "kernelspec": {
   "display_name": "Python 3 (ipykernel)",
   "language": "python",
   "name": "python3"
  },
  "language_info": {
   "codemirror_mode": {
    "name": "ipython",
    "version": 3
   },
   "file_extension": ".py",
   "mimetype": "text/x-python",
   "name": "python",
   "nbconvert_exporter": "python",
   "pygments_lexer": "ipython3",
   "version": "3.9.7"
  }
 },
 "nbformat": 4,
 "nbformat_minor": 2
}
